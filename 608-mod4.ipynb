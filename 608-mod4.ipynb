{
 "cells": [
  {
   "cell_type": "markdown",
   "id": "32fb3f86-b7da-42b3-8885-6506a521af1c",
   "metadata": {
    "tags": []
   },
   "source": [
    "# Section 5.2 Lists"
   ]
  },
  {
   "cell_type": "markdown",
   "id": "32b00289-5f0e-48ff-8747-dc04044391a0",
   "metadata": {},
   "source": [
    "Create List of Integeters"
   ]
  },
  {
   "cell_type": "code",
   "execution_count": 1,
   "id": "8e22ac71-f282-4d26-aee4-e507f6de488e",
   "metadata": {},
   "outputs": [],
   "source": [
    "c = [1, 3, 5, 7, 9, 11, 13, 15, 17, 19, 21]"
   ]
  },
  {
   "cell_type": "code",
   "execution_count": 2,
   "id": "0365d087-3aa7-4452-bcf5-b99b26e8f80d",
   "metadata": {},
   "outputs": [
    {
     "data": {
      "text/plain": [
       "[1, 3, 5, 7, 9, 11, 13, 15, 17, 19, 21]"
      ]
     },
     "execution_count": 2,
     "metadata": {},
     "output_type": "execute_result"
    }
   ],
   "source": [
    "c"
   ]
  },
  {
   "cell_type": "markdown",
   "id": "53d1f6a7-7ec9-49dd-b944-826a6abcd6af",
   "metadata": {},
   "source": [
    "Value of 1st item in list"
   ]
  },
  {
   "cell_type": "code",
   "execution_count": 3,
   "id": "56cba27a-71c2-4be6-9f33-b965641e621f",
   "metadata": {},
   "outputs": [
    {
     "data": {
      "text/plain": [
       "1"
      ]
     },
     "execution_count": 3,
     "metadata": {},
     "output_type": "execute_result"
    }
   ],
   "source": [
    "c[0]"
   ]
  },
  {
   "cell_type": "markdown",
   "id": "cec9e60e-16e8-41c0-b206-7fc6189dee27",
   "metadata": {},
   "source": [
    "Value of 5th item in list"
   ]
  },
  {
   "cell_type": "code",
   "execution_count": 4,
   "id": "59e2dcb9-d385-4bbd-b4b4-100860c9ce5e",
   "metadata": {},
   "outputs": [
    {
     "data": {
      "text/plain": [
       "9"
      ]
     },
     "execution_count": 4,
     "metadata": {},
     "output_type": "execute_result"
    }
   ],
   "source": [
    "c[4]"
   ]
  },
  {
   "cell_type": "markdown",
   "id": "66581b1d-4ea3-4b1e-90e2-b644e3fe20c6",
   "metadata": {},
   "source": [
    "Count number of items in list"
   ]
  },
  {
   "cell_type": "code",
   "execution_count": 5,
   "id": "4a91332d-bd49-4b74-ba3f-acb3a5157069",
   "metadata": {},
   "outputs": [
    {
     "data": {
      "text/plain": [
       "11"
      ]
     },
     "execution_count": 5,
     "metadata": {},
     "output_type": "execute_result"
    }
   ],
   "source": [
    "len (c)"
   ]
  },
  {
   "cell_type": "markdown",
   "id": "8ecd7ec3-6c86-47d9-a855-33ac01d8701c",
   "metadata": {},
   "source": [
    "Get the last item in the list"
   ]
  },
  {
   "cell_type": "code",
   "execution_count": 6,
   "id": "13722f89-da73-462e-ab54-13913dce91a5",
   "metadata": {},
   "outputs": [
    {
     "data": {
      "text/plain": [
       "21"
      ]
     },
     "execution_count": 6,
     "metadata": {},
     "output_type": "execute_result"
    }
   ],
   "source": [
    "c[-1]"
   ]
  },
  {
   "cell_type": "markdown",
   "id": "ca54387a-c4f3-482c-b3fc-a0ec53ba349d",
   "metadata": {},
   "source": [
    "What happens when I try to access an index longer than they list?"
   ]
  },
  {
   "cell_type": "code",
   "execution_count": 7,
   "id": "2a9abd2e-a733-4872-8a26-b00f02b5304f",
   "metadata": {},
   "outputs": [
    {
     "ename": "IndexError",
     "evalue": "list index out of range",
     "output_type": "error",
     "traceback": [
      "\u001b[1;31m---------------------------------------------------------------------------\u001b[0m",
      "\u001b[1;31mIndexError\u001b[0m                                Traceback (most recent call last)",
      "\u001b[1;32m~\\AppData\\Local\\Temp/ipykernel_16576/1565776191.py\u001b[0m in \u001b[0;36m<module>\u001b[1;34m\u001b[0m\n\u001b[1;32m----> 1\u001b[1;33m \u001b[0mc\u001b[0m\u001b[1;33m[\u001b[0m\u001b[1;36m20\u001b[0m\u001b[1;33m]\u001b[0m\u001b[1;33m\u001b[0m\u001b[1;33m\u001b[0m\u001b[0m\n\u001b[0m",
      "\u001b[1;31mIndexError\u001b[0m: list index out of range"
     ]
    }
   ],
   "source": [
    "c[20]"
   ]
  },
  {
   "cell_type": "markdown",
   "id": "87104407-e169-49c4-8a1f-1672ccb97bd7",
   "metadata": {},
   "source": [
    "We receive an IndexError stating list index is out of range"
   ]
  },
  {
   "cell_type": "markdown",
   "id": "686305dc-f064-4a29-a7c6-242cdf2570bd",
   "metadata": {},
   "source": [
    "Add 1st 3 items in the list"
   ]
  },
  {
   "cell_type": "code",
   "execution_count": null,
   "id": "49266b81-78b9-40aa-b71a-79355e39293b",
   "metadata": {},
   "outputs": [],
   "source": [
    "c[0]+c[1]+c[2]"
   ]
  },
  {
   "cell_type": "markdown",
   "id": "97f0a568-def3-4457-b6e9-100013f1cbf3",
   "metadata": {},
   "source": [
    "Append items with +="
   ]
  },
  {
   "cell_type": "code",
   "execution_count": null,
   "id": "8d9c8d85-efa0-49e0-a364-c3dc34920566",
   "metadata": {},
   "outputs": [],
   "source": [
    "a_list=[]"
   ]
  },
  {
   "cell_type": "code",
   "execution_count": null,
   "id": "78e430a7-bb76-4699-8ac3-0311c9ec5606",
   "metadata": {},
   "outputs": [],
   "source": [
    "for number in range(1,9):\n",
    "    a_list += [number]"
   ]
  },
  {
   "cell_type": "code",
   "execution_count": null,
   "id": "a7425b61-3f9e-4e09-a717-754a012214ee",
   "metadata": {},
   "outputs": [],
   "source": [
    "print (a_list)"
   ]
  },
  {
   "cell_type": "code",
   "execution_count": null,
   "id": "2822299b-66ee-4185-9531-75d05487cc47",
   "metadata": {},
   "outputs": [],
   "source": [
    "letters = []"
   ]
  },
  {
   "cell_type": "code",
   "execution_count": null,
   "id": "16a6afce-9b22-4d92-bb12-c0b975b08e8e",
   "metadata": {},
   "outputs": [],
   "source": [
    "letters += 'practice'"
   ]
  },
  {
   "cell_type": "code",
   "execution_count": null,
   "id": "94613cf9-9ea0-4cd6-940f-73ab640abbc0",
   "metadata": {},
   "outputs": [],
   "source": [
    "print (letters)"
   ]
  },
  {
   "cell_type": "markdown",
   "id": "576af328-919d-4217-bb80-7441535bd2e0",
   "metadata": {},
   "source": [
    "Combine (concatenate) 2 lists using +"
   ]
  },
  {
   "cell_type": "code",
   "execution_count": null,
   "id": "bd50f0a6-f1af-4e68-ab99-210fb1aff23f",
   "metadata": {},
   "outputs": [],
   "source": [
    "concatenated_list = a_list+letters"
   ]
  },
  {
   "cell_type": "code",
   "execution_count": null,
   "id": "ab7d2a67-19f0-4e1a-be9f-839e89348c10",
   "metadata": {},
   "outputs": [],
   "source": [
    "print (concatenated_list)"
   ]
  },
  {
   "cell_type": "markdown",
   "id": "6c66cda1-6b7e-4931-8283-4aecc272c564",
   "metadata": {},
   "source": [
    "Use i in range to process every item in a list"
   ]
  },
  {
   "cell_type": "code",
   "execution_count": null,
   "id": "67452d77-a90d-440d-b14d-2cdfd755b387",
   "metadata": {},
   "outputs": [],
   "source": [
    "for i in range(len(concatenated_list)):\n",
    "    print (f'{i}: {concatenated_list[i]}')"
   ]
  },
  {
   "cell_type": "markdown",
   "id": "1fb67f52-0491-4e90-96ba-b59131178c99",
   "metadata": {},
   "source": [
    "Create 3 lists a, b, and c.  Use comparison operators to compare the lists."
   ]
  },
  {
   "cell_type": "code",
   "execution_count": null,
   "id": "f4258549-90bc-44c8-9bf6-e2d7adc3ee49",
   "metadata": {},
   "outputs": [],
   "source": [
    "a = [1, 2, 3]"
   ]
  },
  {
   "cell_type": "code",
   "execution_count": null,
   "id": "f94572b6-fd1a-42be-83d5-2ecb2edb58de",
   "metadata": {},
   "outputs": [],
   "source": [
    "b = [2, 3, 4]"
   ]
  },
  {
   "cell_type": "code",
   "execution_count": null,
   "id": "8dd8f266-ae3f-42ad-ac57-f5ec9802cbcd",
   "metadata": {},
   "outputs": [],
   "source": [
    "c = [1, 2, 3]"
   ]
  },
  {
   "cell_type": "code",
   "execution_count": null,
   "id": "419f46c0-1a34-45d2-b4e2-f66db3366d64",
   "metadata": {},
   "outputs": [],
   "source": [
    "a == b"
   ]
  },
  {
   "cell_type": "code",
   "execution_count": null,
   "id": "26eb1ae0-6308-46b7-bff2-73125ee82d35",
   "metadata": {},
   "outputs": [],
   "source": [
    "a == c"
   ]
  },
  {
   "cell_type": "code",
   "execution_count": null,
   "id": "73b79097-5316-4e0b-83c0-85da51a159fa",
   "metadata": {},
   "outputs": [],
   "source": [
    "a < c"
   ]
  },
  {
   "cell_type": "code",
   "execution_count": null,
   "id": "eaea0dea-2be9-422b-8ca9-27ea9acf6a15",
   "metadata": {},
   "outputs": [],
   "source": [
    "c >=b"
   ]
  },
  {
   "cell_type": "code",
   "execution_count": null,
   "id": "31428e51-6a20-4157-ac01-a54ff660536f",
   "metadata": {},
   "outputs": [],
   "source": [
    "b>=c"
   ]
  },
  {
   "cell_type": "markdown",
   "id": "aa40cf0d-c0d0-4e54-8ae2-760f070780b7",
   "metadata": {},
   "source": [
    "# 5.2 Self-Check"
   ]
  },
  {
   "cell_type": "markdown",
   "id": "0410381b-6f01-4342-b9d1-0acb69a5e2de",
   "metadata": {},
   "source": [
    "Create list of numbers, pass list through cube_list function"
   ]
  },
  {
   "cell_type": "code",
   "execution_count": null,
   "id": "c5d02045-3c01-47de-bacf-d249c62a472a",
   "metadata": {},
   "outputs": [],
   "source": [
    "def cube_list(values):\n",
    "    for i in range(len(values)):\n",
    "        values[i] **=3"
   ]
  },
  {
   "cell_type": "code",
   "execution_count": null,
   "id": "119b1338-4d20-44b8-9472-2e56ef662589",
   "metadata": {},
   "outputs": [],
   "source": [
    "numbers = [2, 4, 6, 8, 10, 12, 14, 16, 18, 20]"
   ]
  },
  {
   "cell_type": "code",
   "execution_count": null,
   "id": "c551ffe4-58fd-483c-85de-7f183568b270",
   "metadata": {},
   "outputs": [],
   "source": [
    "cube_list(numbers)"
   ]
  },
  {
   "cell_type": "code",
   "execution_count": null,
   "id": "1b72178c-4f85-4494-b6f3-23de784be0e6",
   "metadata": {},
   "outputs": [],
   "source": [
    "numbers"
   ]
  },
  {
   "cell_type": "markdown",
   "id": "a44877a9-e698-4351-adc3-d77732231423",
   "metadata": {},
   "source": [
    "Convert a string into a list of characters"
   ]
  },
  {
   "cell_type": "code",
   "execution_count": null,
   "id": "07dd95d3-1a6d-4b1f-b13c-ddf4fb6a2933",
   "metadata": {},
   "outputs": [],
   "source": [
    "characters = []"
   ]
  },
  {
   "cell_type": "code",
   "execution_count": null,
   "id": "a1700495-6fa9-448d-a14a-11a4ff513d47",
   "metadata": {},
   "outputs": [],
   "source": [
    "characters += 'Practice makes perfect'"
   ]
  },
  {
   "cell_type": "code",
   "execution_count": null,
   "id": "f8f1d76b-fd49-4f08-9e87-bee8e6392a2f",
   "metadata": {},
   "outputs": [],
   "source": [
    "print (characters, end=\" \")"
   ]
  },
  {
   "cell_type": "markdown",
   "id": "70e0b8ba-7ab2-4bc8-8485-806bdfd6d572",
   "metadata": {},
   "source": [
    "I did the print command with the end=\" \" to print horizontally and save some room.  - Renee Hawkins"
   ]
  },
  {
   "cell_type": "markdown",
   "id": "dd476cef-0ae0-4657-826c-f090cf58074e",
   "metadata": {},
   "source": [
    "# Section 5.3 Tuples"
   ]
  },
  {
   "cell_type": "markdown",
   "id": "eb414f4d-1ae4-473a-8004-7281cdf365bf",
   "metadata": {},
   "source": [
    "Create a tuple"
   ]
  },
  {
   "cell_type": "code",
   "execution_count": null,
   "id": "63acc808-acc8-4446-ac5b-585bbe594132",
   "metadata": {},
   "outputs": [],
   "source": [
    "employee_tuple = ()"
   ]
  },
  {
   "cell_type": "code",
   "execution_count": null,
   "id": "ed7ed48f-56c5-4dcf-a316-94950a7808b4",
   "metadata": {},
   "outputs": [],
   "source": [
    "employee_tuple"
   ]
  },
  {
   "cell_type": "code",
   "execution_count": null,
   "id": "84349953-0e9d-473c-af17-8495ae1db906",
   "metadata": {},
   "outputs": [],
   "source": [
    "len (employee_tuple)"
   ]
  },
  {
   "cell_type": "code",
   "execution_count": null,
   "id": "00adca78-f9ef-4f50-bae6-cba430143cfa",
   "metadata": {},
   "outputs": [],
   "source": [
    "employee_tuple = 'John', 'Doe', 'HR', '01/15/2021'"
   ]
  },
  {
   "cell_type": "code",
   "execution_count": null,
   "id": "4e3cdcbe-bb75-4cdd-b153-0561ef9de57f",
   "metadata": {},
   "outputs": [],
   "source": [
    "employee_tuple"
   ]
  },
  {
   "cell_type": "markdown",
   "id": "73ac49d2-0a94-47cd-ad12-8d1a60ce3374",
   "metadata": {},
   "source": [
    "Access tuple elements by index"
   ]
  },
  {
   "cell_type": "code",
   "execution_count": null,
   "id": "8ea9def7-a951-44a9-98a8-4d37761d9ea1",
   "metadata": {},
   "outputs": [],
   "source": [
    "employee_tuple [2]"
   ]
  },
  {
   "cell_type": "markdown",
   "id": "fc5deddb-bca8-46a7-b45b-44e9317d36b7",
   "metadata": {},
   "source": [
    "Use += to add more items to the tuple"
   ]
  },
  {
   "cell_type": "code",
   "execution_count": null,
   "id": "c933e8cd-4f80-4cea-bd77-a3287850a29a",
   "metadata": {},
   "outputs": [],
   "source": [
    "employee_tuple += 'Renee', 'Hawkins', 'FCS', '08/03/2000'"
   ]
  },
  {
   "cell_type": "code",
   "execution_count": null,
   "id": "8982a03d-d24e-4b3d-8f2b-0f7417576d9e",
   "metadata": {},
   "outputs": [],
   "source": [
    "employee_tuple"
   ]
  },
  {
   "cell_type": "markdown",
   "id": "9e23aa76-efcb-4663-b114-7d0e9c8856a2",
   "metadata": {},
   "source": [
    "Create student_tuple with first, last, list of grades"
   ]
  },
  {
   "cell_type": "code",
   "execution_count": null,
   "id": "c270d4df-5bff-4664-9b3e-f0873d0659a7",
   "metadata": {},
   "outputs": [],
   "source": [
    "student_tuple = ('Renee', 'Hawkins', [100,98,100], 'John', 'Doe', [100,100,100])"
   ]
  },
  {
   "cell_type": "code",
   "execution_count": null,
   "id": "fde421d3-c25c-4c89-9693-fb21de4b0f11",
   "metadata": {},
   "outputs": [],
   "source": [
    "student_tuple"
   ]
  },
  {
   "cell_type": "markdown",
   "id": "ebaa171b-a1d8-4c06-b3a1-bf9f164813ce",
   "metadata": {},
   "source": [
    "# 5.3 Self Check"
   ]
  },
  {
   "cell_type": "code",
   "execution_count": null,
   "id": "2ce18420-c611-4490-8782-69f0b6f8359e",
   "metadata": {},
   "outputs": [],
   "source": [
    "single = (123.45,)"
   ]
  },
  {
   "cell_type": "code",
   "execution_count": null,
   "id": "afa3471e-8bc8-4874-b5b7-a53d0963546f",
   "metadata": {},
   "outputs": [],
   "source": [
    "single"
   ]
  },
  {
   "cell_type": "code",
   "execution_count": null,
   "id": "950e1fe2-75db-4de7-be70-628264aef97e",
   "metadata": {},
   "outputs": [],
   "source": [
    "SelfCheck_list = [1, 2, 3]"
   ]
  },
  {
   "cell_type": "code",
   "execution_count": null,
   "id": "1fe7e9d3-0df4-485b-9d30-24c22ee8831c",
   "metadata": {},
   "outputs": [],
   "source": [
    "SelfCheck_tuple = (4, 5, 6)"
   ]
  },
  {
   "cell_type": "code",
   "execution_count": null,
   "id": "bb2b6d94-613a-44b6-ac7a-87d257da066a",
   "metadata": {},
   "outputs": [],
   "source": [
    "SelfCheck_list + SelfCheck_tuple"
   ]
  },
  {
   "cell_type": "markdown",
   "id": "1950c88f-a05f-43cc-a083-f2387ff78761",
   "metadata": {},
   "source": [
    "# 5.4 Unpacking Sequences"
   ]
  },
  {
   "cell_type": "markdown",
   "id": "1ddd13ce-2ecb-459d-bbda-81a5e786bbff",
   "metadata": {},
   "source": [
    "Unpack the tuple to first_name and grades"
   ]
  },
  {
   "cell_type": "code",
   "execution_count": null,
   "id": "1add36e8-9dc3-4725-8b18-265fa4237c1e",
   "metadata": {},
   "outputs": [],
   "source": [
    "student_tuple = ('Renee', [100, 103, 100])"
   ]
  },
  {
   "cell_type": "code",
   "execution_count": null,
   "id": "7c5b364f-a6e3-4e3b-9b6a-a1d5bccb2895",
   "metadata": {},
   "outputs": [],
   "source": [
    "first_name, grades = student_tuple"
   ]
  },
  {
   "cell_type": "code",
   "execution_count": null,
   "id": "d9766da3-b405-40de-af08-24f1ac8cd588",
   "metadata": {},
   "outputs": [],
   "source": [
    "first_name"
   ]
  },
  {
   "cell_type": "code",
   "execution_count": null,
   "id": "b21d75ce-6d23-492c-a79b-5f2518adefb6",
   "metadata": {},
   "outputs": [],
   "source": [
    "grades"
   ]
  },
  {
   "cell_type": "code",
   "execution_count": null,
   "id": "1fcb8e9e-79ce-41ba-b548-5cf283244a45",
   "metadata": {},
   "outputs": [],
   "source": [
    "first, second, third = 'try'"
   ]
  },
  {
   "cell_type": "code",
   "execution_count": null,
   "id": "9741af43-ae70-458a-b33e-523e8151afac",
   "metadata": {},
   "outputs": [],
   "source": [
    "print(f'{first} {second} {third}')"
   ]
  },
  {
   "cell_type": "code",
   "execution_count": null,
   "id": "7e88f229-0652-4f9c-9645-fa28b0bc4d29",
   "metadata": {},
   "outputs": [],
   "source": [
    "number1, number2, number3 = [9, 8, 2]"
   ]
  },
  {
   "cell_type": "code",
   "execution_count": null,
   "id": "22515dce-1770-4c7d-95ef-5212c36fc313",
   "metadata": {},
   "outputs": [],
   "source": [
    "print (f'{number1} {number3} {number2}')"
   ]
  },
  {
   "cell_type": "code",
   "execution_count": null,
   "id": "af3de4a3-8f52-464c-8f50-c73c8641e78d",
   "metadata": {},
   "outputs": [],
   "source": [
    "number1, number2, number3 = range(10,40,10)"
   ]
  },
  {
   "cell_type": "code",
   "execution_count": null,
   "id": "e2c1b5c7-9c0e-4386-8cb2-758b10ea4109",
   "metadata": {},
   "outputs": [],
   "source": [
    "print (f'{number1} {number2} {number3}')"
   ]
  },
  {
   "cell_type": "code",
   "execution_count": null,
   "id": "805fdd91-50f4-4ad1-87e5-8ac9c1180c60",
   "metadata": {},
   "outputs": [],
   "source": [
    "number1 = 99"
   ]
  },
  {
   "cell_type": "code",
   "execution_count": null,
   "id": "eb338452-09b8-4cb2-898d-2f93ec7a1217",
   "metadata": {},
   "outputs": [],
   "source": [
    "number2 = 22"
   ]
  },
  {
   "cell_type": "code",
   "execution_count": null,
   "id": "3971cb87-7a02-4472-8e16-36942a0889fc",
   "metadata": {},
   "outputs": [],
   "source": [
    "number1"
   ]
  },
  {
   "cell_type": "code",
   "execution_count": null,
   "id": "5603fd09-da58-4789-9148-507cfe72f211",
   "metadata": {},
   "outputs": [],
   "source": [
    "number2"
   ]
  },
  {
   "cell_type": "code",
   "execution_count": null,
   "id": "7e3817b4-e54d-4940-9c7f-cee69a634cfe",
   "metadata": {},
   "outputs": [],
   "source": [
    "number1, number2 = (number2, number1)"
   ]
  },
  {
   "cell_type": "code",
   "execution_count": null,
   "id": "4e63e7ea-e112-4e90-8b21-c35c24f42973",
   "metadata": {},
   "outputs": [],
   "source": [
    "print (f'number1 = {number1}: number2 = {number2}')"
   ]
  },
  {
   "cell_type": "code",
   "execution_count": null,
   "id": "17ba46a6-ede1-4c95-8bd6-3d07d9537ee1",
   "metadata": {},
   "outputs": [],
   "source": [
    "colors = ['red', 'orange', 'yellow']"
   ]
  },
  {
   "cell_type": "code",
   "execution_count": null,
   "id": "0c1aaaa6-61b6-48ac-bbb5-03e2ebb402aa",
   "metadata": {},
   "outputs": [],
   "source": [
    "list (enumerate(colors))"
   ]
  },
  {
   "cell_type": "code",
   "execution_count": null,
   "id": "4836fc6f-8d32-4563-90ac-66a0f48d0847",
   "metadata": {},
   "outputs": [],
   "source": [
    "tuple (enumerate(colors))"
   ]
  },
  {
   "cell_type": "code",
   "execution_count": null,
   "id": "29361dbd-9d48-45c1-ac39-0af749c564a2",
   "metadata": {},
   "outputs": [],
   "source": [
    "for index, value in enumerate(colors):\n",
    "    print(f'{index}: {value}')"
   ]
  },
  {
   "cell_type": "markdown",
   "id": "3dc80ce7-cfd2-4e12-99ec-2e8c0dff157d",
   "metadata": {},
   "source": [
    "Continue with 5.4, especailly \"creating a primiative bar chart\" "
   ]
  },
  {
   "cell_type": "code",
   "execution_count": null,
   "id": "d42029c3-bfb9-48ab-8621-281c279aabf3",
   "metadata": {},
   "outputs": [],
   "source": [
    "# fig05_01.py"
   ]
  },
  {
   "cell_type": "code",
   "execution_count": null,
   "id": "e1e4816b-1d86-4ca6-b2ac-8c7063ca208d",
   "metadata": {},
   "outputs": [],
   "source": [
    "\"\"\"Displaying a bar chart\"\"\""
   ]
  },
  {
   "cell_type": "code",
   "execution_count": null,
   "id": "244379bc-0d62-474f-8105-43b87b8ae191",
   "metadata": {},
   "outputs": [],
   "source": [
    "numbers = [19, 3, 15, 7, 11]"
   ]
  },
  {
   "cell_type": "code",
   "execution_count": null,
   "id": "ae2457c3-66f1-4ce0-92be-0076b0221f01",
   "metadata": {},
   "outputs": [],
   "source": [
    "print(f'\\nCreating a bar chart from numbers:')\n",
    "print(f'Index{\"Value\":>8}   Bar')"
   ]
  },
  {
   "cell_type": "code",
   "execution_count": null,
   "id": "f7465f95-572a-49d5-b8a9-299bb643be81",
   "metadata": {},
   "outputs": [],
   "source": [
    "for index, value in enumerate(numbers):\n",
    "    print(f'{index:>5}{value:>8}   {\"*\"  *  value}')"
   ]
  },
  {
   "cell_type": "code",
   "execution_count": null,
   "id": "ba20dfa1-dfbf-4942-935b-6d83337e6b53",
   "metadata": {},
   "outputs": [],
   "source": [
    "high_low = ('Monday', 87, 65)"
   ]
  },
  {
   "cell_type": "code",
   "execution_count": null,
   "id": "4fb80b15-1e0e-41c2-95f8-80b4f6d72732",
   "metadata": {},
   "outputs": [],
   "source": [
    "high_low"
   ]
  },
  {
   "cell_type": "code",
   "execution_count": null,
   "id": "e0d7f2ed-ca9d-43cd-a90e-9567e5aeefd3",
   "metadata": {},
   "outputs": [],
   "source": [
    "print(f'{high_low[0]}: high={high_low[1]}, Low={high_low[2]}')"
   ]
  },
  {
   "cell_type": "code",
   "execution_count": null,
   "id": "22f0e4b2-63b3-4f24-9d06-30c639e5f7ce",
   "metadata": {},
   "outputs": [],
   "source": [
    "day, high = high_low"
   ]
  },
  {
   "cell_type": "markdown",
   "id": "817ffd57-e33a-4837-bee0-1ca9f6e18be4",
   "metadata": {},
   "source": [
    "# 5.5 Sequence Slicing"
   ]
  },
  {
   "cell_type": "markdown",
   "id": "e438a5fc-5693-4492-b982-408163cdfb56",
   "metadata": {},
   "source": [
    "Specifying a slice with starting and ending indices"
   ]
  },
  {
   "cell_type": "code",
   "execution_count": null,
   "id": "2ac6999d-eba5-42f9-9a2a-30276c614247",
   "metadata": {},
   "outputs": [],
   "source": [
    "numbers = [3, 7, 8, 1, 9, 10, 31, 20, 50, 78]"
   ]
  },
  {
   "cell_type": "markdown",
   "id": "8f01946a-4b64-41c8-847f-081575b07048",
   "metadata": {},
   "source": [
    "Print 3rd through 8th number in list"
   ]
  },
  {
   "cell_type": "code",
   "execution_count": null,
   "id": "036a17b7-8301-4473-8fbf-c1e95f6f9600",
   "metadata": {},
   "outputs": [],
   "source": [
    "numbers[3:9]"
   ]
  },
  {
   "cell_type": "markdown",
   "id": "62ab0d63-7a9d-44ff-bf08-048968a860f1",
   "metadata": {},
   "source": [
    "Specifying slice with only an ending index"
   ]
  },
  {
   "cell_type": "markdown",
   "id": "a753dac0-cc7e-4884-b505-130ffcd4cd57",
   "metadata": {},
   "source": [
    "Print the 1st 4 numbers of the list"
   ]
  },
  {
   "cell_type": "code",
   "execution_count": null,
   "id": "30beb13e-18fd-4ee0-ad0e-203f54f81a22",
   "metadata": {},
   "outputs": [],
   "source": [
    "numbers[:4]"
   ]
  },
  {
   "cell_type": "markdown",
   "id": "3c55a7ef-cafe-403d-97c7-1c19ae3c51c2",
   "metadata": {},
   "source": [
    "Specifying slice with only a beginning index"
   ]
  },
  {
   "cell_type": "markdown",
   "id": "c6f698a9-d3eb-4f8b-8c73-1c39ddc9b7fa",
   "metadata": {},
   "source": [
    "Print the last 3 numbers of the list"
   ]
  },
  {
   "cell_type": "code",
   "execution_count": null,
   "id": "c37ee99a-8078-491b-ad52-b9c719e2e83d",
   "metadata": {},
   "outputs": [],
   "source": [
    "numbers[7:]"
   ]
  },
  {
   "cell_type": "markdown",
   "id": "1fec10be-34dc-4da4-8a68-925af64d263b",
   "metadata": {},
   "source": [
    "Slice with no indices"
   ]
  },
  {
   "cell_type": "code",
   "execution_count": null,
   "id": "fc370dbb-0327-4113-9029-134b2a646d08",
   "metadata": {},
   "outputs": [],
   "source": [
    "numbers[:]"
   ]
  },
  {
   "cell_type": "markdown",
   "id": "5a6dc5ef-ece6-490e-968a-86eb52c462e2",
   "metadata": {},
   "source": [
    "Slicing with steps - print every 3rd number"
   ]
  },
  {
   "cell_type": "code",
   "execution_count": null,
   "id": "0b63d354-45cf-4822-b916-30dbaf61b024",
   "metadata": {},
   "outputs": [],
   "source": [
    "numbers[::3]"
   ]
  },
  {
   "cell_type": "markdown",
   "id": "9b59f49b-a31c-439f-958b-ab663f965959",
   "metadata": {},
   "source": [
    "Slicing with negative steps - print every other number starting from right "
   ]
  },
  {
   "cell_type": "code",
   "execution_count": null,
   "id": "52b37321-ffce-4dc7-8bd2-e0ad9595fda5",
   "metadata": {},
   "outputs": [],
   "source": [
    "numbers[::-2]"
   ]
  },
  {
   "cell_type": "markdown",
   "id": "3b9d4167-1233-4d14-ac91-26dbeea41fba",
   "metadata": {},
   "source": [
    "Modify lists via slice - change the 4th and 5th values"
   ]
  },
  {
   "cell_type": "code",
   "execution_count": null,
   "id": "d81ef074-bb12-43c1-8586-c869ed2ee001",
   "metadata": {},
   "outputs": [],
   "source": [
    "numbers[3:5] = ['one', 'nine']"
   ]
  },
  {
   "cell_type": "code",
   "execution_count": null,
   "id": "c1c801d4-897b-439b-8c83-a006ec52a83e",
   "metadata": {},
   "outputs": [],
   "source": [
    "numbers"
   ]
  },
  {
   "cell_type": "markdown",
   "id": "fbd73f0b-7a95-4938-bd25-39a0223431c3",
   "metadata": {},
   "source": [
    "Delete 4th and 5th values"
   ]
  },
  {
   "cell_type": "code",
   "execution_count": null,
   "id": "b38ab9f1-3e81-4321-afd0-d72e44de5527",
   "metadata": {},
   "outputs": [],
   "source": [
    "numbers[3:5] = []"
   ]
  },
  {
   "cell_type": "code",
   "execution_count": null,
   "id": "7eda2070-6463-4999-8cba-f501d00cb081",
   "metadata": {},
   "outputs": [],
   "source": [
    "numbers"
   ]
  },
  {
   "cell_type": "markdown",
   "id": "77be03b2-3b97-44b2-b856-d22fc3dde812",
   "metadata": {},
   "source": [
    "Make every other value a 5"
   ]
  },
  {
   "cell_type": "code",
   "execution_count": null,
   "id": "61a4fa8c-5e1a-471e-ba0b-fa6c3393d7a9",
   "metadata": {},
   "outputs": [],
   "source": [
    "numbers[::2] = [5, 5, 5, 5]"
   ]
  },
  {
   "cell_type": "code",
   "execution_count": null,
   "id": "b5e40143-a1d7-46ee-93f0-6b51d1e28d43",
   "metadata": {},
   "outputs": [],
   "source": [
    "numbers"
   ]
  },
  {
   "cell_type": "code",
   "execution_count": null,
   "id": "0a637c24-7e78-48d8-9a5c-77aad8c332ed",
   "metadata": {},
   "outputs": [],
   "source": [
    "id(numbers)"
   ]
  },
  {
   "cell_type": "code",
   "execution_count": null,
   "id": "ba629b11-c678-4ab9-9fe5-af99d213e4c2",
   "metadata": {},
   "outputs": [],
   "source": [
    "numbers[:] = []"
   ]
  },
  {
   "cell_type": "code",
   "execution_count": null,
   "id": "b494687c-6e30-4c62-885e-52fa5bc04ca7",
   "metadata": {},
   "outputs": [],
   "source": [
    "numbers"
   ]
  },
  {
   "cell_type": "code",
   "execution_count": null,
   "id": "5863293f-27ec-4e71-82c0-9cf849d94666",
   "metadata": {},
   "outputs": [],
   "source": [
    "id(numbers)"
   ]
  },
  {
   "cell_type": "markdown",
   "id": "b5d8a477-3076-4aea-9a0d-17b7eaa3faa3",
   "metadata": {},
   "source": [
    "# 5.5 Self Check"
   ]
  },
  {
   "cell_type": "code",
   "execution_count": null,
   "id": "64f04250-bf82-4092-a91b-9aa3842c40b2",
   "metadata": {},
   "outputs": [],
   "source": [
    "numbers = list(range(1,16))"
   ]
  },
  {
   "cell_type": "code",
   "execution_count": null,
   "id": "034c02f3-84e2-442a-a101-76312a9034e8",
   "metadata": {},
   "outputs": [],
   "source": [
    "numbers"
   ]
  },
  {
   "cell_type": "code",
   "execution_count": null,
   "id": "f2b34a0e-1c81-4ae2-b23f-a1b22aead0df",
   "metadata": {},
   "outputs": [],
   "source": [
    "numbers[1:len(numbers):2]"
   ]
  },
  {
   "cell_type": "code",
   "execution_count": null,
   "id": "19b447e0-2bec-47be-841c-c588a9604ba7",
   "metadata": {},
   "outputs": [],
   "source": [
    "numbers[5:16] = [0] * len(numbers[5:16])"
   ]
  },
  {
   "cell_type": "code",
   "execution_count": null,
   "id": "80bc4e0b-84f8-4c3f-8813-fa8d74fa099f",
   "metadata": {},
   "outputs": [],
   "source": [
    "numbers"
   ]
  },
  {
   "cell_type": "code",
   "execution_count": null,
   "id": "6c8f114b-e5a0-4537-a5c8-ef1cce874268",
   "metadata": {},
   "outputs": [],
   "source": [
    "numbers[:]=[]"
   ]
  },
  {
   "cell_type": "code",
   "execution_count": null,
   "id": "8176bc6b-e608-473d-8b1f-8adfde2c2292",
   "metadata": {},
   "outputs": [],
   "source": [
    "numbers"
   ]
  },
  {
   "cell_type": "code",
   "execution_count": null,
   "id": "d60f0959-1d6d-4fd6-ae89-33966589253f",
   "metadata": {},
   "outputs": [],
   "source": [
    "romeo_list = ['Romeo', 'Romeo', 'wherefore', 'art', 'thou', 'Romeo']"
   ]
  },
  {
   "cell_type": "code",
   "execution_count": null,
   "id": "0bb95e8c-da27-48d4-86af-9fee7c317480",
   "metadata": {},
   "outputs": [],
   "source": [
    "romeo_list"
   ]
  },
  {
   "cell_type": "code",
   "execution_count": null,
   "id": "c2da5755-c593-43e2-bd7f-88d207fe1f15",
   "metadata": {},
   "outputs": [],
   "source": [
    "for i in range(len(romeo_list)):\n",
    "    if romeo_list[i] == 'Romeo':\n",
    "        romeo_list[i] = 'Elmo'"
   ]
  },
  {
   "cell_type": "code",
   "execution_count": null,
   "id": "2a1542f8-b86a-4008-951e-809a0af455a1",
   "metadata": {},
   "outputs": [],
   "source": [
    "romeo_list"
   ]
  },
  {
   "cell_type": "markdown",
   "id": "75020bc5-d003-46da-a967-d5478a1bc301",
   "metadata": {},
   "source": [
    "# 5.6 del Statement"
   ]
  },
  {
   "cell_type": "code",
   "execution_count": null,
   "id": "28656698-dd34-4792-9068-e9ad5c816f60",
   "metadata": {},
   "outputs": [],
   "source": [
    "numbers = list(range(0,10))"
   ]
  },
  {
   "cell_type": "code",
   "execution_count": null,
   "id": "e9d4a29b-e0aa-46e1-ad0e-5d152a16e50b",
   "metadata": {},
   "outputs": [],
   "source": [
    "numbers"
   ]
  },
  {
   "cell_type": "code",
   "execution_count": null,
   "id": "7baabf47-c689-4e6e-beeb-616477e02d78",
   "metadata": {},
   "outputs": [],
   "source": [
    "del numbers [-1]"
   ]
  },
  {
   "cell_type": "code",
   "execution_count": null,
   "id": "88dbc9cb-1b34-47ff-9aeb-262fdd4ccc8d",
   "metadata": {},
   "outputs": [],
   "source": [
    "numbers"
   ]
  },
  {
   "cell_type": "code",
   "execution_count": null,
   "id": "4e361b10-8437-42fd-9f73-d06325ef0ca9",
   "metadata": {},
   "outputs": [],
   "source": [
    "del numbers [0:2]"
   ]
  },
  {
   "cell_type": "code",
   "execution_count": null,
   "id": "a40d1973-cb5a-48d5-a6f1-5a5d9ebc4cd3",
   "metadata": {},
   "outputs": [],
   "source": [
    "numbers"
   ]
  },
  {
   "cell_type": "code",
   "execution_count": null,
   "id": "d621573d-c63c-459e-8285-58edde19c753",
   "metadata": {},
   "outputs": [],
   "source": [
    "del numbers [::2]"
   ]
  },
  {
   "cell_type": "code",
   "execution_count": null,
   "id": "9a5dd275-c2ae-4088-9df2-5c877da40198",
   "metadata": {},
   "outputs": [],
   "source": [
    "numbers"
   ]
  },
  {
   "cell_type": "code",
   "execution_count": null,
   "id": "90d1a0fb-efc9-4e09-8b2a-57844b44652d",
   "metadata": {},
   "outputs": [],
   "source": [
    "del numbers [:]"
   ]
  },
  {
   "cell_type": "code",
   "execution_count": null,
   "id": "b9fadd4e-1329-43ee-9cf0-d4356df174fc",
   "metadata": {},
   "outputs": [],
   "source": [
    "numbers"
   ]
  },
  {
   "cell_type": "code",
   "execution_count": null,
   "id": "23efef4f-c18e-4680-b1f4-bc94ac60026a",
   "metadata": {},
   "outputs": [],
   "source": [
    "del numbers"
   ]
  },
  {
   "cell_type": "code",
   "execution_count": null,
   "id": "22933e20-70a3-4eed-9c00-f70363164a1a",
   "metadata": {},
   "outputs": [],
   "source": [
    "numbers"
   ]
  },
  {
   "cell_type": "markdown",
   "id": "1414dde1-9f76-45e9-8f4c-19b67f3ef9ec",
   "metadata": {},
   "source": [
    "# 5.6 Self Check"
   ]
  },
  {
   "cell_type": "code",
   "execution_count": null,
   "id": "090b02ae-2785-4ce2-b261-a2fbfca52e66",
   "metadata": {},
   "outputs": [],
   "source": [
    "numbers = list(range(1,16))"
   ]
  },
  {
   "cell_type": "code",
   "execution_count": null,
   "id": "69eac023-ee67-4c26-ba73-1f69114cc0ed",
   "metadata": {},
   "outputs": [],
   "source": [
    "numbers"
   ]
  },
  {
   "cell_type": "code",
   "execution_count": null,
   "id": "bef8a830-df31-4aee-8f83-1885afee4761",
   "metadata": {},
   "outputs": [],
   "source": [
    "del numbers [:4]"
   ]
  },
  {
   "cell_type": "code",
   "execution_count": null,
   "id": "d92b612d-1760-4a79-85ba-2df7b797d1fd",
   "metadata": {},
   "outputs": [],
   "source": [
    "numbers"
   ]
  },
  {
   "cell_type": "code",
   "execution_count": null,
   "id": "20cb9da2-eb6c-430e-b69d-54396fa5b122",
   "metadata": {},
   "outputs": [],
   "source": [
    "del numbers [::2]"
   ]
  },
  {
   "cell_type": "code",
   "execution_count": null,
   "id": "0fe02dcc-84b8-4745-9b70-3d1feae029fb",
   "metadata": {},
   "outputs": [],
   "source": [
    "numbers"
   ]
  },
  {
   "cell_type": "markdown",
   "id": "de0f3bfe-2bf7-4e8e-b249-b7849d3b3a5b",
   "metadata": {},
   "source": [
    "# 5.7 Passing Lists to Functions"
   ]
  },
  {
   "cell_type": "code",
   "execution_count": null,
   "id": "1a89e79a-d6ac-41f4-ba72-402e923f2ea3",
   "metadata": {},
   "outputs": [],
   "source": [
    "def modify_elements(items):\n",
    "    \"\"\"Multiplies all element values in items by 2.\"\"\"\n",
    "    for i in range(len(items)):\n",
    "        items[i] *=2"
   ]
  },
  {
   "cell_type": "code",
   "execution_count": null,
   "id": "10f1f5ba-63e3-4221-8faf-2cebabb0e05d",
   "metadata": {},
   "outputs": [],
   "source": [
    "numbers = [10, 3, 7, 1, 9]"
   ]
  },
  {
   "cell_type": "code",
   "execution_count": null,
   "id": "157fc45c-4dd9-4868-a5e8-07aac3bd8857",
   "metadata": {},
   "outputs": [],
   "source": [
    "modify_elements(numbers)"
   ]
  },
  {
   "cell_type": "code",
   "execution_count": null,
   "id": "4cfeb3ad-32d7-4fde-97e1-117e0e813932",
   "metadata": {},
   "outputs": [],
   "source": [
    "numbers"
   ]
  },
  {
   "cell_type": "markdown",
   "id": "903f7eb7-e6a5-42b6-bb13-959e389350bb",
   "metadata": {},
   "source": [
    "# 5.8 Sorting Lists"
   ]
  },
  {
   "cell_type": "code",
   "execution_count": null,
   "id": "322275ec-4d41-41b6-9438-0448fd3ddcc7",
   "metadata": {},
   "outputs": [],
   "source": [
    "numbers = [10, 3, 7, 1, 9, 4, 2, 8, 5, 6]"
   ]
  },
  {
   "cell_type": "code",
   "execution_count": null,
   "id": "6007636c-ef5a-4c51-afc2-3f38dd90c265",
   "metadata": {},
   "outputs": [],
   "source": [
    "numbers.sort()"
   ]
  },
  {
   "cell_type": "code",
   "execution_count": null,
   "id": "59a7d37b-3cb6-4930-a7c1-8d759b0f427e",
   "metadata": {},
   "outputs": [],
   "source": [
    "numbers"
   ]
  },
  {
   "cell_type": "code",
   "execution_count": null,
   "id": "3930b5a7-d826-43ec-849d-722f165a42b0",
   "metadata": {},
   "outputs": [],
   "source": [
    "numbers.sort(reverse=True)"
   ]
  },
  {
   "cell_type": "code",
   "execution_count": null,
   "id": "4ee401f2-54fc-43a0-be8d-ceaceab4e551",
   "metadata": {},
   "outputs": [],
   "source": [
    "numbers"
   ]
  },
  {
   "cell_type": "code",
   "execution_count": null,
   "id": "0b85798f-2786-4264-8b45-74f81739ed3b",
   "metadata": {},
   "outputs": [],
   "source": [
    "numbers = [10, 3, 7, 1, 9, 4, 2, 8, 5, 6]"
   ]
  },
  {
   "cell_type": "code",
   "execution_count": null,
   "id": "8c71c8ce-7786-4e6a-b3f3-7a9c732cefed",
   "metadata": {},
   "outputs": [],
   "source": [
    "ascending_numbers = sorted(numbers)"
   ]
  },
  {
   "cell_type": "code",
   "execution_count": null,
   "id": "bdf6fe90-e776-4549-a120-9c0134d3ee0d",
   "metadata": {},
   "outputs": [],
   "source": [
    "ascending_numbers"
   ]
  },
  {
   "cell_type": "code",
   "execution_count": null,
   "id": "131bb485-32aa-49f6-a604-9af5778e2201",
   "metadata": {},
   "outputs": [],
   "source": [
    "numbers"
   ]
  },
  {
   "cell_type": "code",
   "execution_count": null,
   "id": "6b2b50d8-afdf-4a6f-9e65-6b0cabd6afd5",
   "metadata": {},
   "outputs": [],
   "source": [
    "letters = 'fadgchjebi'"
   ]
  },
  {
   "cell_type": "code",
   "execution_count": null,
   "id": "d26afac3-d304-42a1-812d-9e44743fa3f3",
   "metadata": {},
   "outputs": [],
   "source": [
    "ascending_letters = sorted(letters)"
   ]
  },
  {
   "cell_type": "code",
   "execution_count": null,
   "id": "6a65990e-1035-44f9-a375-970e24224ed5",
   "metadata": {},
   "outputs": [],
   "source": [
    "ascending_letters"
   ]
  },
  {
   "cell_type": "code",
   "execution_count": null,
   "id": "a34bd7be-7d73-42ef-8497-710be1e9bc00",
   "metadata": {},
   "outputs": [],
   "source": [
    "letters"
   ]
  },
  {
   "cell_type": "code",
   "execution_count": null,
   "id": "24a31eaf-ab9d-4885-beb6-e17d3ae84034",
   "metadata": {},
   "outputs": [],
   "source": [
    "colors = ('red', 'orange', 'yellow', 'green', 'blue')"
   ]
  },
  {
   "cell_type": "code",
   "execution_count": null,
   "id": "245af940-0605-4189-9ee1-a33175ab7fc7",
   "metadata": {},
   "outputs": [],
   "source": [
    "ascending_colors = sorted(colors)"
   ]
  },
  {
   "cell_type": "code",
   "execution_count": null,
   "id": "742e02e3-5ef0-45c9-90d8-84dbddac07ae",
   "metadata": {},
   "outputs": [],
   "source": [
    "ascending_colors"
   ]
  },
  {
   "cell_type": "code",
   "execution_count": null,
   "id": "154727cb-0d8c-4e61-a4e4-2b7549b50be3",
   "metadata": {},
   "outputs": [],
   "source": [
    "colors"
   ]
  },
  {
   "cell_type": "markdown",
   "id": "9f789646-b1f1-4451-9d1a-e872b9f73a5d",
   "metadata": {},
   "source": [
    "5.8 Self Check"
   ]
  },
  {
   "cell_type": "code",
   "execution_count": null,
   "id": "b07f1ea4-e3e6-43d5-9a4b-635f1e6d4a76",
   "metadata": {},
   "outputs": [],
   "source": [
    "food_list = ('Cookies', 'pizza', 'Grapes', 'apples', 'steak', 'Bacon')"
   ]
  },
  {
   "cell_type": "code",
   "execution_count": null,
   "id": "f5591497-ecdf-462f-aad7-01cae94c1f18",
   "metadata": {},
   "outputs": [],
   "source": [
    "ascending_food_list = sorted(food_list)"
   ]
  },
  {
   "cell_type": "code",
   "execution_count": null,
   "id": "0b4a2993-d1d1-4501-8dd5-7a5769adaca1",
   "metadata": {},
   "outputs": [],
   "source": [
    "ascending_food_list"
   ]
  },
  {
   "cell_type": "markdown",
   "id": "47defa93-72ab-4623-8016-08cb1e18cc1b",
   "metadata": {},
   "source": [
    "# 5.9 Searching Sequences"
   ]
  },
  {
   "cell_type": "code",
   "execution_count": null,
   "id": "87e21397-f074-4f30-b7ba-ea8c99826b45",
   "metadata": {},
   "outputs": [],
   "source": [
    "numbers = [3, 7, 1, 4, 2, 8, 5, 6]"
   ]
  },
  {
   "cell_type": "code",
   "execution_count": null,
   "id": "1e17acf8-5a9c-4b72-8340-a20d588e2719",
   "metadata": {},
   "outputs": [],
   "source": [
    "numbers.index(5)"
   ]
  },
  {
   "cell_type": "code",
   "execution_count": null,
   "id": "d102a879-be72-4eba-bad3-069aedfa7601",
   "metadata": {},
   "outputs": [],
   "source": [
    "numbers.index(9)"
   ]
  },
  {
   "cell_type": "code",
   "execution_count": null,
   "id": "b11e0fa3-a596-485f-9e88-d53a0eb97160",
   "metadata": {},
   "outputs": [],
   "source": [
    "numbers = [3, 3, 1, 5, 2, 8, 5, 6]"
   ]
  },
  {
   "cell_type": "code",
   "execution_count": null,
   "id": "41ed4f65-28f5-4c45-9978-7ff61723e05a",
   "metadata": {},
   "outputs": [],
   "source": [
    "numbers.index(3)"
   ]
  },
  {
   "cell_type": "code",
   "execution_count": null,
   "id": "0f0dc824-80a3-4bf4-8d5f-31dde2036ad9",
   "metadata": {},
   "outputs": [],
   "source": [
    "numbers = [3, 7, 1, 4, 2, 8, 5, 6]"
   ]
  },
  {
   "cell_type": "code",
   "execution_count": null,
   "id": "27588e0f-5f8b-4ed6-8620-315284ba4861",
   "metadata": {},
   "outputs": [],
   "source": [
    "numbers *=2"
   ]
  },
  {
   "cell_type": "code",
   "execution_count": null,
   "id": "90029dc5-26dd-4643-8e90-4abb765cfe47",
   "metadata": {},
   "outputs": [],
   "source": [
    "numbers"
   ]
  },
  {
   "cell_type": "code",
   "execution_count": null,
   "id": "7000b6f0-7ce9-4e19-b56f-ccfbec56d844",
   "metadata": {},
   "outputs": [],
   "source": [
    "numbers.index(5,7)"
   ]
  },
  {
   "cell_type": "code",
   "execution_count": null,
   "id": "ee8b7b2d-ea94-4001-921b-d18ec0329c47",
   "metadata": {},
   "outputs": [],
   "source": [
    "numbers.index(7,0,4)"
   ]
  },
  {
   "cell_type": "code",
   "execution_count": null,
   "id": "aec2da43-b1ef-4f51-8adf-c8805b0a92c7",
   "metadata": {},
   "outputs": [],
   "source": [
    "1000 in numbers"
   ]
  },
  {
   "cell_type": "code",
   "execution_count": null,
   "id": "d97bbcda-24c5-4c5d-a849-e33551d3f49e",
   "metadata": {},
   "outputs": [],
   "source": [
    "5 in numbers"
   ]
  },
  {
   "cell_type": "code",
   "execution_count": null,
   "id": "45565c6b-8d77-49e6-8324-9d7ab3884d14",
   "metadata": {},
   "outputs": [],
   "source": [
    "1000 not in numbers"
   ]
  },
  {
   "cell_type": "code",
   "execution_count": null,
   "id": "8b19475d-1bd3-4efe-8f70-0c2dd71e0913",
   "metadata": {},
   "outputs": [],
   "source": [
    "5 not in numbers"
   ]
  },
  {
   "cell_type": "code",
   "execution_count": null,
   "id": "6e80b01a-5eb3-4c18-8d0b-916436ec7c6b",
   "metadata": {},
   "outputs": [],
   "source": [
    "key = 1000"
   ]
  },
  {
   "cell_type": "code",
   "execution_count": null,
   "id": "d0f0b452-a9ac-417e-8d1b-9098656ecfe4",
   "metadata": {},
   "outputs": [],
   "source": [
    "if key in numbers:\n",
    "    print(f'found{key} at index {numbers.index(key)}')\n",
    "else:\n",
    "    print(f'{key} not found')"
   ]
  },
  {
   "cell_type": "markdown",
   "id": "6ee40695-9e97-465e-be78-8006688479ab",
   "metadata": {},
   "source": [
    "# 5.9 Self Check"
   ]
  },
  {
   "cell_type": "code",
   "execution_count": null,
   "id": "72aa3f3a-4663-4dd4-a9e3-9d090247ba38",
   "metadata": {},
   "outputs": [],
   "source": [
    "numbers = [67, 12, 46, 43, 13]"
   ]
  },
  {
   "cell_type": "code",
   "execution_count": null,
   "id": "0ce7172c-0bc2-449d-a1a8-1c9a4bca7cbc",
   "metadata": {},
   "outputs": [],
   "source": [
    "numbers.index(43)"
   ]
  },
  {
   "cell_type": "code",
   "execution_count": null,
   "id": "7762375f-f8e2-4395-a04f-973732512948",
   "metadata": {},
   "outputs": [],
   "source": [
    "if 44 in numbers:\n",
    "    print(f'Found 44 at index: {numbers.index(44)}')\n",
    "else:\n",
    "    print(f'44 not found')"
   ]
  },
  {
   "cell_type": "markdown",
   "id": "17f08370-55b1-4beb-88c9-43309e340bd1",
   "metadata": {},
   "source": [
    "# 5.12 List Comprehensions"
   ]
  },
  {
   "cell_type": "code",
   "execution_count": null,
   "id": "82ae65dd-2941-47fd-8953-2a98bb960973",
   "metadata": {},
   "outputs": [],
   "source": [
    "list1 = []"
   ]
  },
  {
   "cell_type": "code",
   "execution_count": null,
   "id": "19825f5d-a0e2-494d-b994-ae71ef99b9e1",
   "metadata": {},
   "outputs": [],
   "source": [
    "for item in range (1,6):\n",
    "    list1.append(item)"
   ]
  },
  {
   "cell_type": "code",
   "execution_count": null,
   "id": "d9c3a64d-20a6-4f4b-a4b3-613e2f3b27bb",
   "metadata": {},
   "outputs": [],
   "source": [
    "list1"
   ]
  },
  {
   "cell_type": "code",
   "execution_count": null,
   "id": "a86ee742-aec0-4579-b2c3-a347805eb3f6",
   "metadata": {},
   "outputs": [],
   "source": [
    "list2 = [item for item in range(1,6)]"
   ]
  },
  {
   "cell_type": "code",
   "execution_count": null,
   "id": "fa3c5474-156a-4e1a-98d7-e77111049d44",
   "metadata": {},
   "outputs": [],
   "source": [
    "list2"
   ]
  },
  {
   "cell_type": "code",
   "execution_count": null,
   "id": "8ebf9c6c-1fae-4b27-a9e8-47296cd87fb8",
   "metadata": {},
   "outputs": [],
   "source": [
    "list3 = [item **3 for item in range (1,6)]"
   ]
  },
  {
   "cell_type": "code",
   "execution_count": null,
   "id": "c1893f10-7a5f-4075-ad1a-8cc6bbe8a349",
   "metadata": {},
   "outputs": [],
   "source": [
    "list3"
   ]
  },
  {
   "cell_type": "code",
   "execution_count": null,
   "id": "a4555b3c-4926-409d-a6f2-01e92adc5e26",
   "metadata": {},
   "outputs": [],
   "source": [
    "list4 = [item for item in range (1,11) if item % 2 ==0]"
   ]
  },
  {
   "cell_type": "code",
   "execution_count": null,
   "id": "feae2e4f-6f13-4910-9e83-2d468a6c6fbc",
   "metadata": {},
   "outputs": [],
   "source": [
    "list4"
   ]
  },
  {
   "cell_type": "code",
   "execution_count": null,
   "id": "82504465-b2c2-47f1-a3a8-8fbfee85edda",
   "metadata": {},
   "outputs": [],
   "source": [
    "colors = ['red', 'orange', 'yellow', 'green', 'blue']"
   ]
  },
  {
   "cell_type": "code",
   "execution_count": null,
   "id": "98061dec-0531-43d3-b32a-9b33db00f569",
   "metadata": {},
   "outputs": [],
   "source": [
    "colors"
   ]
  },
  {
   "cell_type": "code",
   "execution_count": null,
   "id": "c1482d57-4d07-4be6-a70c-4550e644042b",
   "metadata": {},
   "outputs": [],
   "source": [
    "colors2 = [item.upper() for item in colors]"
   ]
  },
  {
   "cell_type": "code",
   "execution_count": null,
   "id": "c8ffbfaa-b855-4996-b583-15a0ec53e3e4",
   "metadata": {},
   "outputs": [],
   "source": [
    "colors2"
   ]
  },
  {
   "cell_type": "markdown",
   "id": "538daf1c-489d-4c83-80bf-63f1d55c9e5c",
   "metadata": {},
   "source": [
    "# 5.12 Self Check"
   ]
  },
  {
   "cell_type": "code",
   "execution_count": null,
   "id": "adbb694e-c808-4873-9433-422b03bf566e",
   "metadata": {},
   "outputs": [],
   "source": [
    "cubes = [(x, x**3) for x in range (1,6)]"
   ]
  },
  {
   "cell_type": "code",
   "execution_count": null,
   "id": "53c0a49c-6537-4e33-bb84-a79d7bf17f1e",
   "metadata": {},
   "outputs": [],
   "source": [
    "cubes"
   ]
  },
  {
   "cell_type": "code",
   "execution_count": null,
   "id": "27eb480d-742f-41b2-a6c1-7dcf6bd24618",
   "metadata": {},
   "outputs": [],
   "source": [
    "multiples = [x for x in range(3, 30, 3)]"
   ]
  },
  {
   "cell_type": "code",
   "execution_count": null,
   "id": "baee6861-5907-41bb-abd7-8e0534aaab4f",
   "metadata": {},
   "outputs": [],
   "source": [
    "multiples"
   ]
  },
  {
   "cell_type": "markdown",
   "id": "1624980a-7209-46c5-9355-2e3c0001d1ae",
   "metadata": {},
   "source": [
    "# 5.16 Two-Dimensional Lists"
   ]
  },
  {
   "cell_type": "code",
   "execution_count": null,
   "id": "9cf6ac7b-30e0-4e45-8dd7-6c83e76e3342",
   "metadata": {},
   "outputs": [],
   "source": [
    "t = [[10, 7, 3], [20, 4, 17]]"
   ]
  },
  {
   "cell_type": "code",
   "execution_count": null,
   "id": "27ccd089-15d3-4d8f-9560-e34fde0497ba",
   "metadata": {},
   "outputs": [],
   "source": [
    "total = 0"
   ]
  },
  {
   "cell_type": "code",
   "execution_count": null,
   "id": "c940d962-a1b2-4081-9000-79d40800cc13",
   "metadata": {},
   "outputs": [],
   "source": [
    "items = 0"
   ]
  },
  {
   "cell_type": "code",
   "execution_count": null,
   "id": "290c2bd1-d1f7-4f6e-8c99-32eb92c41a3f",
   "metadata": {},
   "outputs": [],
   "source": [
    "for row in t:\n",
    "    for item in row:\n",
    "        total += item\n",
    "        items += 1"
   ]
  },
  {
   "cell_type": "code",
   "execution_count": null,
   "id": "5945b9d1-132f-4119-8519-e45dc874c273",
   "metadata": {},
   "outputs": [],
   "source": [
    "total/items"
   ]
  },
  {
   "cell_type": "code",
   "execution_count": null,
   "id": "165029b3-af3e-4e6a-902f-02f392d6201a",
   "metadata": {},
   "outputs": [],
   "source": [
    "total = 0"
   ]
  },
  {
   "cell_type": "code",
   "execution_count": null,
   "id": "52ef510d-e449-45d1-85ce-89e577b78155",
   "metadata": {},
   "outputs": [],
   "source": [
    "items = 0"
   ]
  },
  {
   "cell_type": "raw",
   "id": "38dd09d4-0f9d-4483-b9dd-a98fc8b8b84c",
   "metadata": {},
   "source": [
    "for row in t:\n",
    "    total += sum(row)\n",
    "    items += len(row)"
   ]
  },
  {
   "cell_type": "code",
   "execution_count": null,
   "id": "1a333144-d313-4c5c-bb0c-008eedd87951",
   "metadata": {},
   "outputs": [],
   "source": [
    "total/item"
   ]
  },
  {
   "cell_type": "markdown",
   "id": "b0e12e2f-0e9b-4375-a33d-0293eae7b6fe",
   "metadata": {},
   "source": [
    "# Chapter 6"
   ]
  },
  {
   "cell_type": "code",
   "execution_count": null,
   "id": "0d34fc0a-1128-4d61-9f94-fc1bfa1dd836",
   "metadata": {},
   "outputs": [],
   "source": [
    "country_codes = {'Finland': 'fi', 'South Africa': 'za', 'Nepal': 'np'}"
   ]
  },
  {
   "cell_type": "code",
   "execution_count": null,
   "id": "ec3c2798-27d4-4da6-9844-7344817cc0eb",
   "metadata": {},
   "outputs": [],
   "source": [
    "country_codes"
   ]
  },
  {
   "cell_type": "code",
   "execution_count": null,
   "id": "82d1f4e6-8bf3-494d-bae4-4769371425e8",
   "metadata": {},
   "outputs": [],
   "source": [
    "len(country_codes)"
   ]
  },
  {
   "cell_type": "code",
   "execution_count": null,
   "id": "d8a4a792-bb4d-46ff-aa85-f84f461221f8",
   "metadata": {},
   "outputs": [],
   "source": [
    "if country_codes:\n",
    "    print('country_codes is not empty')\n",
    "else:\n",
    "    print('country_codes is empty')\n",
    "        "
   ]
  },
  {
   "cell_type": "markdown",
   "id": "17c079c0-ac23-466f-9a13-1dd646c0bb0f",
   "metadata": {},
   "source": [
    "# Self Check"
   ]
  },
  {
   "cell_type": "code",
   "execution_count": null,
   "id": "5e07014b-05d3-4524-8ec7-3a7c6de6c08a",
   "metadata": {},
   "outputs": [],
   "source": [
    "states = {'VT': 'Vermont', 'NH': 'New Hampshire', 'MA': 'Massachusetts'}"
   ]
  },
  {
   "cell_type": "code",
   "execution_count": null,
   "id": "065a3884-8fce-4bb4-964b-f72694883100",
   "metadata": {},
   "outputs": [],
   "source": [
    "states"
   ]
  },
  {
   "cell_type": "markdown",
   "id": "e322a385-8ddd-487f-89f2-3750b5091139",
   "metadata": {},
   "source": [
    "# 6.2.2"
   ]
  },
  {
   "cell_type": "code",
   "execution_count": null,
   "id": "c479153a-4aa1-4d8e-94c1-13f87782e1c3",
   "metadata": {},
   "outputs": [],
   "source": [
    "days_per_month = {'January': 31, 'February': 28, 'March': 31}"
   ]
  },
  {
   "cell_type": "code",
   "execution_count": null,
   "id": "7793c6d4-2793-4455-9935-694905298516",
   "metadata": {},
   "outputs": [],
   "source": [
    "days_per_month"
   ]
  },
  {
   "cell_type": "code",
   "execution_count": null,
   "id": "2050261a-776b-46ff-9a4d-9ca03b5c6ad2",
   "metadata": {},
   "outputs": [],
   "source": [
    "for month, days in days_per_month.items():\n",
    "    print(f'{month} has {days} days')"
   ]
  },
  {
   "cell_type": "markdown",
   "id": "9c73f8c0-9578-4e47-a866-b2d75bbfc036",
   "metadata": {},
   "source": [
    "# 6.2.3"
   ]
  },
  {
   "cell_type": "code",
   "execution_count": null,
   "id": "5ab8652f-8e2a-46f6-baa8-bf99d5571484",
   "metadata": {},
   "outputs": [],
   "source": [
    "roman_numerals = {'I': 1, 'II': 2, 'III': 3, 'V': 5, 'X': 100}"
   ]
  },
  {
   "cell_type": "code",
   "execution_count": null,
   "id": "01e3e3bd-6419-4500-8c88-cc88febbc4da",
   "metadata": {},
   "outputs": [],
   "source": [
    "roman_numerals"
   ]
  },
  {
   "cell_type": "code",
   "execution_count": null,
   "id": "c78acfef-4cd1-4949-9635-c6632a2a1840",
   "metadata": {},
   "outputs": [],
   "source": [
    "roman_numerals['V']"
   ]
  },
  {
   "cell_type": "code",
   "execution_count": null,
   "id": "860a44f7-535d-4ce8-9262-0d7cd6d63a05",
   "metadata": {},
   "outputs": [],
   "source": [
    "roman_numerals['X'] = 10"
   ]
  },
  {
   "cell_type": "code",
   "execution_count": null,
   "id": "9fd29f08-f510-4ccb-86d4-e6462abf143f",
   "metadata": {},
   "outputs": [],
   "source": [
    "roman_numerals"
   ]
  },
  {
   "cell_type": "code",
   "execution_count": null,
   "id": "8361956b-61e6-47e4-ae97-cf399fa744eb",
   "metadata": {},
   "outputs": [],
   "source": [
    "roman_numerals['L'] = 50"
   ]
  },
  {
   "cell_type": "code",
   "execution_count": null,
   "id": "0d09ecfc-58c1-4259-94b4-eb32b45f07f7",
   "metadata": {},
   "outputs": [],
   "source": [
    "roman_numerals"
   ]
  },
  {
   "cell_type": "code",
   "execution_count": null,
   "id": "c3c0d511-b512-435e-aeac-bd6937e1bf43",
   "metadata": {},
   "outputs": [],
   "source": [
    "del roman_numerals['III']"
   ]
  },
  {
   "cell_type": "code",
   "execution_count": null,
   "id": "80d76fd9-58d1-4afb-befd-7405f81a678e",
   "metadata": {},
   "outputs": [],
   "source": [
    "roman_numerals"
   ]
  },
  {
   "cell_type": "code",
   "execution_count": null,
   "id": "b01d25d6-3732-407a-aead-9c35b9fd4981",
   "metadata": {},
   "outputs": [],
   "source": [
    "roman_numerals.pop('X')"
   ]
  },
  {
   "cell_type": "code",
   "execution_count": null,
   "id": "85c61d22-5f84-4f68-b07a-2e3e4b7b3acc",
   "metadata": {},
   "outputs": [],
   "source": [
    "roman_numerals"
   ]
  },
  {
   "cell_type": "code",
   "execution_count": null,
   "id": "708305f2-ab36-4b68-9fa5-65b7c539e338",
   "metadata": {},
   "outputs": [],
   "source": [
    "roman_numerals.get('III')"
   ]
  },
  {
   "cell_type": "code",
   "execution_count": null,
   "id": "bf797f83-9924-4885-8365-d5ee11f12293",
   "metadata": {},
   "outputs": [],
   "source": [
    "roman_numerals.get('III', 'III not in dictionary')"
   ]
  },
  {
   "cell_type": "code",
   "execution_count": null,
   "id": "838d38da-5546-4a25-9110-0fdbe7c4aae9",
   "metadata": {},
   "outputs": [],
   "source": [
    "roman_numerals.get('V')"
   ]
  },
  {
   "cell_type": "code",
   "execution_count": null,
   "id": "d7c21ad6-d9e8-4280-980d-803a6d2f18fc",
   "metadata": {},
   "outputs": [],
   "source": [
    "'V' in roman_numerals"
   ]
  },
  {
   "cell_type": "code",
   "execution_count": null,
   "id": "b967e673-b07b-4d51-a3a5-97eff3bd1915",
   "metadata": {},
   "outputs": [],
   "source": [
    "'III' in roman_numerals"
   ]
  },
  {
   "cell_type": "code",
   "execution_count": null,
   "id": "8beda090-8d03-430f-80e1-752f0f4a8cc8",
   "metadata": {},
   "outputs": [],
   "source": [
    "'III' not in roman_numerals"
   ]
  },
  {
   "cell_type": "markdown",
   "id": "266b6650-a8d0-495c-9b29-407006465cb5",
   "metadata": {},
   "source": [
    "# Self Check"
   ]
  },
  {
   "cell_type": "code",
   "execution_count": null,
   "id": "41b879ac-f954-46e9-ba2d-3a2a7d122120",
   "metadata": {},
   "outputs": [],
   "source": [
    "roman_numerals = {'I': 1, 'II': 2, 'III': 3, 'V': 5, 'X': 100}"
   ]
  },
  {
   "cell_type": "code",
   "execution_count": null,
   "id": "c52cc04f-2fab-4b3c-badb-fd035090cc6f",
   "metadata": {},
   "outputs": [],
   "source": [
    "roman_numerals['x'] = 10"
   ]
  },
  {
   "cell_type": "code",
   "execution_count": null,
   "id": "a669c18f-2085-4267-b60b-81c8c76bc0ad",
   "metadata": {},
   "outputs": [],
   "source": [
    "roman_numerals"
   ]
  },
  {
   "cell_type": "markdown",
   "id": "7f1612c3-7781-4cc5-bee8-86c833b7fd47",
   "metadata": {},
   "source": [
    "# 6.2.4"
   ]
  },
  {
   "cell_type": "code",
   "execution_count": null,
   "id": "c2f733cd-a1cc-4a21-a256-e60c367acfa9",
   "metadata": {},
   "outputs": [],
   "source": [
    "months = {'January': 1, 'February': 2, 'March': 3}"
   ]
  },
  {
   "cell_type": "code",
   "execution_count": null,
   "id": "72951966-48d1-4c7b-bcb9-660261964e69",
   "metadata": {},
   "outputs": [],
   "source": [
    "for month_name in months.keys():\n",
    "    print(month_name, end=' ')"
   ]
  },
  {
   "cell_type": "code",
   "execution_count": null,
   "id": "7d2579e2-05b2-4e3a-b292-a5d036a80ea0",
   "metadata": {},
   "outputs": [],
   "source": [
    "for month_number in months.values():\n",
    "    print(month_number, end=' ')"
   ]
  },
  {
   "cell_type": "code",
   "execution_count": null,
   "id": "e3e424d3-5cb8-4bcb-b97e-b33934d144f7",
   "metadata": {},
   "outputs": [],
   "source": [
    "months_view = months.keys()"
   ]
  },
  {
   "cell_type": "code",
   "execution_count": null,
   "id": "7d625c1d-b664-414d-9f64-56816c9a3df4",
   "metadata": {},
   "outputs": [],
   "source": [
    "for key in months_view:\n",
    "    print(key, end=' ')"
   ]
  },
  {
   "cell_type": "code",
   "execution_count": null,
   "id": "e4206ac2-7dc5-4f95-aa3c-94dc42171736",
   "metadata": {},
   "outputs": [],
   "source": [
    "months['December'] = 12"
   ]
  },
  {
   "cell_type": "code",
   "execution_count": null,
   "id": "1fb33ea0-96b7-410f-a335-6274f69b0ebc",
   "metadata": {},
   "outputs": [],
   "source": [
    "months"
   ]
  },
  {
   "cell_type": "code",
   "execution_count": null,
   "id": "649215d3-1fda-4d5f-b8c8-6156d2591e9e",
   "metadata": {},
   "outputs": [],
   "source": [
    "for key in months_view:\n",
    "    print(key, end=' ')"
   ]
  },
  {
   "cell_type": "code",
   "execution_count": null,
   "id": "0248e9d3-de9c-4adc-afc3-35b1d320364a",
   "metadata": {},
   "outputs": [],
   "source": [
    "list(months.keys())"
   ]
  },
  {
   "cell_type": "code",
   "execution_count": null,
   "id": "9a5da07e-d3de-4fb6-a88b-92756be7ae68",
   "metadata": {},
   "outputs": [],
   "source": [
    "list(months.values())"
   ]
  },
  {
   "cell_type": "code",
   "execution_count": null,
   "id": "05df8fc8-1150-4b18-9025-9d5fb341b0e1",
   "metadata": {},
   "outputs": [],
   "source": [
    "list(months.items())"
   ]
  },
  {
   "cell_type": "code",
   "execution_count": null,
   "id": "ec53d9f6-69f4-42d9-ba1a-2f3dd1aa09e4",
   "metadata": {},
   "outputs": [],
   "source": [
    "for month_name in sorted(months.keys()):\n",
    "    print(month_name, end=' ')"
   ]
  },
  {
   "cell_type": "markdown",
   "id": "c11246bb-df1d-4c20-9f9c-a931768226fa",
   "metadata": {},
   "source": [
    "# Self Check"
   ]
  },
  {
   "cell_type": "code",
   "execution_count": null,
   "id": "20e52160-1289-472e-85c3-c877ee76e26b",
   "metadata": {},
   "outputs": [],
   "source": [
    "roman_numerals = {'I': 1, 'II': 2, 'III': 3, 'V':5}"
   ]
  },
  {
   "cell_type": "code",
   "execution_count": null,
   "id": "263ade8b-b109-4f10-ac2d-26bc17de7b4b",
   "metadata": {},
   "outputs": [],
   "source": [
    "list(roman_numerals.keys())"
   ]
  },
  {
   "cell_type": "code",
   "execution_count": null,
   "id": "e6b3927d-506d-48c8-a8e1-bca689f8caf4",
   "metadata": {},
   "outputs": [],
   "source": [
    "list(roman_numerals.values())"
   ]
  },
  {
   "cell_type": "code",
   "execution_count": null,
   "id": "afc8a238-5b46-40aa-b344-5e042756999f",
   "metadata": {},
   "outputs": [],
   "source": [
    "list(roman_numerals.items())"
   ]
  },
  {
   "cell_type": "markdown",
   "id": "be3d1c09-7bdb-4752-9179-8b1ed4ae75e3",
   "metadata": {},
   "source": [
    "# 6.2.5"
   ]
  },
  {
   "cell_type": "code",
   "execution_count": null,
   "id": "21cd2632-4535-416f-a45e-85146053b5e3",
   "metadata": {},
   "outputs": [],
   "source": [
    "country_capitals1 = {'Belgium': 'Brussels', 'Haiti': 'Port-au-Prince'}"
   ]
  },
  {
   "cell_type": "code",
   "execution_count": null,
   "id": "aea94204-c18c-4809-8158-7e30fe557a9a",
   "metadata": {},
   "outputs": [],
   "source": [
    "country_capitals2 = {'Nepal': 'Kathmandu', 'Uruaguay': 'Montevideo'}"
   ]
  },
  {
   "cell_type": "code",
   "execution_count": null,
   "id": "8ebc812f-fd14-4073-af02-5aee85b88807",
   "metadata": {},
   "outputs": [],
   "source": [
    "country_capitals3 = {'Haiti': 'Port-au-Prince', 'Belgium': 'Brussels'}"
   ]
  },
  {
   "cell_type": "code",
   "execution_count": null,
   "id": "be9f85d5-44da-426a-9b26-ca48a9f6c04a",
   "metadata": {},
   "outputs": [],
   "source": [
    "country_capitals1 == country_capitals2"
   ]
  },
  {
   "cell_type": "code",
   "execution_count": null,
   "id": "b1e369c2-8e1b-46c2-beb8-12bb6fdc2f0b",
   "metadata": {},
   "outputs": [],
   "source": [
    "country_capitals1 == country_capitals3"
   ]
  },
  {
   "cell_type": "code",
   "execution_count": null,
   "id": "e5021b23-34bf-4325-9d9a-d26c9e49570f",
   "metadata": {},
   "outputs": [],
   "source": [
    "country_capitals1 != country_capitals2"
   ]
  },
  {
   "cell_type": "markdown",
   "id": "b0438c1a-73c5-49ea-a82c-da15e5bce9b8",
   "metadata": {},
   "source": [
    "# 6.2.6"
   ]
  },
  {
   "cell_type": "markdown",
   "id": "fcdb4b98-64f2-4c23-8351-45774538f55c",
   "metadata": {},
   "source": [
    "# fig06_01.0y"
   ]
  },
  {
   "cell_type": "code",
   "execution_count": null,
   "id": "c2a3fc02-0b6c-4370-837c-bbcdb3625098",
   "metadata": {},
   "outputs": [],
   "source": [
    "\"\"\"Using a dictionary to represent an instructor's grade book.\"\"\""
   ]
  },
  {
   "cell_type": "code",
   "execution_count": null,
   "id": "7982f671-6620-4a83-9ed9-a3da9978595a",
   "metadata": {},
   "outputs": [],
   "source": [
    "grade_book = {\n",
    "    'Susan': [92, 85, 100],\n",
    "    'Eduardo': [83, 95, 79],\n",
    "    'Azizi': [ 91, 89, 82],\n",
    "    'Pantipa': [97, 91, 92]\n",
    "}\n",
    "    "
   ]
  },
  {
   "cell_type": "code",
   "execution_count": null,
   "id": "8d544f3a-66b9-47c5-9237-918c5d1ef969",
   "metadata": {},
   "outputs": [],
   "source": [
    "all_grades_total = 0"
   ]
  },
  {
   "cell_type": "code",
   "execution_count": null,
   "id": "1ea95187-eb3f-42b2-9cf5-b760f0d8b9ac",
   "metadata": {},
   "outputs": [],
   "source": [
    "all_grades_count = 0"
   ]
  },
  {
   "cell_type": "code",
   "execution_count": null,
   "id": "7619b940-4e54-47f2-aad9-d74018561b73",
   "metadata": {},
   "outputs": [],
   "source": [
    "for name, grades in grade_book.items():\n",
    "    total = sum(grades)\n",
    "    print(f'Average for {name} is {total/len(grades):.2f}')\n",
    "    all_grades_total += total\n",
    "    all_grades_count += len(grades)"
   ]
  },
  {
   "cell_type": "code",
   "execution_count": null,
   "id": "fe84c8a9-c503-4927-9ab6-5bfa3aec6202",
   "metadata": {},
   "outputs": [],
   "source": [
    "print(f\"Class's average is: {all_grades_total / all_grades_count:.2f}\")"
   ]
  },
  {
   "cell_type": "markdown",
   "id": "8458a5ed-552e-440b-9a78-ba65dff6cbdc",
   "metadata": {},
   "source": [
    "# fig06_02.py"
   ]
  },
  {
   "cell_type": "code",
   "execution_count": null,
   "id": "74e65d43-270a-4730-ae12-ce55f5a96574",
   "metadata": {},
   "outputs": [],
   "source": [
    "\"\"\"Tokenizing a string and counting unique words.\"\"\""
   ]
  },
  {
   "cell_type": "code",
   "execution_count": null,
   "id": "c1e0a158-ecd1-4ecd-a5c2-56516bb2c684",
   "metadata": {},
   "outputs": [],
   "source": [
    "text = ('this is sample text with several words '\n",
    "        'this is more sample text with some different words')"
   ]
  },
  {
   "cell_type": "code",
   "execution_count": null,
   "id": "4a4ce14e-959c-4125-8264-9a00106d12ed",
   "metadata": {},
   "outputs": [],
   "source": [
    "word_counts = {}"
   ]
  },
  {
   "cell_type": "markdown",
   "id": "c7b0308b-aecd-47df-a47d-8b0cb91d4939",
   "metadata": {},
   "source": [
    "# count occurrences of each unique word"
   ]
  },
  {
   "cell_type": "code",
   "execution_count": null,
   "id": "9412e11a-0c08-4e5e-ba40-7bb2b23dfbfc",
   "metadata": {},
   "outputs": [],
   "source": [
    "for word in text.split():\n",
    "    if word in word_counts:\n",
    "        word_counts[word] += 1 # update existing key-value pair\n",
    "    else:\n",
    "        word_counts[word] = 1 # insert new key-value pair"
   ]
  },
  {
   "cell_type": "code",
   "execution_count": null,
   "id": "13a3a0f8-100c-44bc-a6a4-588d38268ec3",
   "metadata": {},
   "outputs": [],
   "source": [
    "print(f'{\"WORD\":<12}COUNT')"
   ]
  },
  {
   "cell_type": "code",
   "execution_count": null,
   "id": "54f679f1-bf77-4b92-b79a-57a22fdb33d2",
   "metadata": {},
   "outputs": [],
   "source": [
    "for word, count in sorted(word_counts.items()):\n",
    "    print(f'{word:<12}{count}')"
   ]
  },
  {
   "cell_type": "code",
   "execution_count": null,
   "id": "771aa2fa-4a9b-464d-b64d-7f3ec40ddc34",
   "metadata": {},
   "outputs": [],
   "source": [
    "print('\\nNumber of unique words:', len(word_counts))"
   ]
  },
  {
   "cell_type": "code",
   "execution_count": null,
   "id": "788e5a86-e0b7-4d38-b2e1-468d6e950b49",
   "metadata": {},
   "outputs": [],
   "source": [
    "from collections import Counter"
   ]
  },
  {
   "cell_type": "code",
   "execution_count": null,
   "id": "f541eb65-2193-49ce-9d6c-cd4bb8788206",
   "metadata": {},
   "outputs": [],
   "source": [
    "text = ('this is sample text with several words '\n",
    "        'this is more sample text with some different words '\n",
    "        'this is modified text by Renee Hawkins')"
   ]
  },
  {
   "cell_type": "code",
   "execution_count": null,
   "id": "43503f0d-b630-418d-8af0-ed358f35f295",
   "metadata": {},
   "outputs": [],
   "source": [
    "counter = Counter(text.split())"
   ]
  },
  {
   "cell_type": "code",
   "execution_count": null,
   "id": "c9715de3-9852-41a9-9a73-ee687c003427",
   "metadata": {},
   "outputs": [],
   "source": [
    "for word, count in sorted(counter.items()):\n",
    "    print(f'{word:<12}{count}')"
   ]
  },
  {
   "cell_type": "code",
   "execution_count": null,
   "id": "3ff8d0da-fc3f-4501-825e-d23180e08f08",
   "metadata": {},
   "outputs": [],
   "source": [
    "print('Number of unique keys:', len(counter.keys()))"
   ]
  },
  {
   "cell_type": "code",
   "execution_count": null,
   "id": "6a94159c-d8a0-4763-b4c7-fec470d18dbe",
   "metadata": {},
   "outputs": [],
   "source": [
    "import random"
   ]
  },
  {
   "cell_type": "code",
   "execution_count": null,
   "id": "13c6b8fc-d1d5-49ed-82be-0710265854c4",
   "metadata": {},
   "outputs": [],
   "source": [
    "numbers = [random.randrange(1,6) for i in range(50)]"
   ]
  },
  {
   "cell_type": "code",
   "execution_count": null,
   "id": "8f5b5c0b-5486-4297-a76b-01a8205c90fa",
   "metadata": {},
   "outputs": [],
   "source": [
    "from collections import Counter"
   ]
  },
  {
   "cell_type": "code",
   "execution_count": null,
   "id": "1b627db7-8609-458c-b1cc-de9172d4ee2e",
   "metadata": {},
   "outputs": [],
   "source": [
    "counter = Counter(numbers)"
   ]
  },
  {
   "cell_type": "code",
   "execution_count": null,
   "id": "2be4286c-eab3-47d6-bde4-abeb0b7a3e99",
   "metadata": {},
   "outputs": [],
   "source": [
    "for value, count in sorted(counter.items()):\n",
    "    print(f'{value:<4}{count}')"
   ]
  },
  {
   "cell_type": "markdown",
   "id": "88895324-4527-47dd-bb89-cc1f085d2e7c",
   "metadata": {},
   "source": [
    "# 6.2.8"
   ]
  },
  {
   "cell_type": "code",
   "execution_count": null,
   "id": "f0132382-dcb9-45df-8051-5fec0e6c148c",
   "metadata": {},
   "outputs": [],
   "source": [
    "country_codes = {}"
   ]
  },
  {
   "cell_type": "code",
   "execution_count": null,
   "id": "8e56417d-9783-41e7-9641-28d4b2bf2b34",
   "metadata": {},
   "outputs": [],
   "source": [
    "country_codes.update({'South Africa': 'za'})"
   ]
  },
  {
   "cell_type": "code",
   "execution_count": null,
   "id": "80402e1b-1050-450a-a20b-cf5f4e6482d3",
   "metadata": {},
   "outputs": [],
   "source": [
    "country_codes"
   ]
  },
  {
   "cell_type": "code",
   "execution_count": null,
   "id": "0e394390-f750-4d94-b57e-69b2adc23ea8",
   "metadata": {},
   "outputs": [],
   "source": [
    "country_codes.update(Australia='ar')"
   ]
  },
  {
   "cell_type": "code",
   "execution_count": null,
   "id": "e780fbec-22d8-4898-b9ae-dffb53772b30",
   "metadata": {},
   "outputs": [],
   "source": [
    "country_codes"
   ]
  },
  {
   "cell_type": "code",
   "execution_count": null,
   "id": "dd7b9259-d536-4e5f-bda2-862fdf127fd6",
   "metadata": {},
   "outputs": [],
   "source": [
    "country_codes.update(Australia='au')"
   ]
  },
  {
   "cell_type": "code",
   "execution_count": null,
   "id": "bf24a360-ea72-4aa1-92ac-0d94901dd9ac",
   "metadata": {},
   "outputs": [],
   "source": [
    "country_codes"
   ]
  },
  {
   "cell_type": "code",
   "execution_count": null,
   "id": "5d509c7d-3b6d-40c5-95a6-7fd8053f491b",
   "metadata": {},
   "outputs": [],
   "source": [
    "months = {'January': 1, 'February': 2, 'March': 3}"
   ]
  },
  {
   "cell_type": "code",
   "execution_count": null,
   "id": "9332eea8-767a-4652-ab58-3f111053361f",
   "metadata": {},
   "outputs": [],
   "source": [
    "months2 = {number: name for name, number in months. items()}"
   ]
  },
  {
   "cell_type": "code",
   "execution_count": null,
   "id": "f87ee898-eaae-45ee-be06-77a8e726731d",
   "metadata": {},
   "outputs": [],
   "source": [
    "months2"
   ]
  },
  {
   "cell_type": "code",
   "execution_count": null,
   "id": "9a6ff376-575a-4d6c-a912-bad80a086726",
   "metadata": {},
   "outputs": [],
   "source": [
    "grades = {'Sue': [98, 87, 94], 'Bob': [84, 95, 91]}"
   ]
  },
  {
   "cell_type": "code",
   "execution_count": null,
   "id": "a4608db7-8cb5-45ad-932b-245e651a968e",
   "metadata": {},
   "outputs": [],
   "source": [
    "grades2 = {k: sum(v) / len(v) for k, v in grades. items()}"
   ]
  },
  {
   "cell_type": "code",
   "execution_count": null,
   "id": "21341f6e-9992-4740-84a1-f491ed14bfe7",
   "metadata": {},
   "outputs": [],
   "source": [
    "grades2"
   ]
  },
  {
   "cell_type": "markdown",
   "id": "67030d65-be92-4f47-a58b-d459b29fedf5",
   "metadata": {},
   "source": [
    "# Self Check"
   ]
  },
  {
   "cell_type": "code",
   "execution_count": null,
   "id": "4b43e5b8-efb2-4f89-a996-84c29ca0f2a3",
   "metadata": {},
   "outputs": [],
   "source": [
    "{number: number ** 3 for number in range (1, 6)}"
   ]
  },
  {
   "cell_type": "markdown",
   "id": "d35dbcc4-bbf0-46e7-824e-bfc394227e9d",
   "metadata": {},
   "source": [
    "# 6.3"
   ]
  },
  {
   "cell_type": "code",
   "execution_count": null,
   "id": "a6378e17-bbc0-4d1d-b09d-632f6fa25cfc",
   "metadata": {},
   "outputs": [],
   "source": [
    "colors = {'red', 'orange', 'yellow', 'green', 'red', 'blue'}"
   ]
  },
  {
   "cell_type": "code",
   "execution_count": null,
   "id": "79143e2a-ad05-4505-b340-e24661795fd7",
   "metadata": {},
   "outputs": [],
   "source": [
    "colors"
   ]
  },
  {
   "cell_type": "code",
   "execution_count": null,
   "id": "45ae7508-d597-4a5f-b89c-07ee3afaffe3",
   "metadata": {},
   "outputs": [],
   "source": [
    "len(colors)"
   ]
  },
  {
   "cell_type": "code",
   "execution_count": null,
   "id": "cefe5d4c-48b4-4e0c-8ad1-89d0b3d1b412",
   "metadata": {},
   "outputs": [],
   "source": [
    "'red' in colors"
   ]
  },
  {
   "cell_type": "code",
   "execution_count": null,
   "id": "5bbbbbd3-d983-4f92-afd6-0d5aeb7f5213",
   "metadata": {},
   "outputs": [],
   "source": [
    "'purple' in colors"
   ]
  },
  {
   "cell_type": "code",
   "execution_count": null,
   "id": "fd1b8a88-9f04-4ba1-8634-114eefb2cc9d",
   "metadata": {},
   "outputs": [],
   "source": [
    "'purple' not in colors"
   ]
  },
  {
   "cell_type": "code",
   "execution_count": null,
   "id": "799c5a11-06d2-47a9-b487-c7170d2fb7f5",
   "metadata": {},
   "outputs": [],
   "source": [
    "for color in colors:\n",
    "    print(color.upper(), end=' ')"
   ]
  },
  {
   "cell_type": "code",
   "execution_count": null,
   "id": "1da2c7ba-db50-4175-8dbc-76864491cc61",
   "metadata": {},
   "outputs": [],
   "source": [
    "numbers = list(range(10)) + list(range(5))"
   ]
  },
  {
   "cell_type": "code",
   "execution_count": null,
   "id": "d7724e76-520b-4bde-aed2-c05e33925edd",
   "metadata": {},
   "outputs": [],
   "source": [
    "numbers"
   ]
  },
  {
   "cell_type": "code",
   "execution_count": null,
   "id": "680f5670-7f18-48b3-a81d-5e129e05091c",
   "metadata": {},
   "outputs": [],
   "source": [
    "set(numbers)"
   ]
  },
  {
   "cell_type": "markdown",
   "id": "ae7c5f22-dd04-44b2-aa20-22e49c285ee0",
   "metadata": {},
   "source": [
    "# Self Check"
   ]
  },
  {
   "cell_type": "code",
   "execution_count": null,
   "id": "628163a0-29e4-4cea-a17a-57a437284d55",
   "metadata": {},
   "outputs": [],
   "source": [
    "text = 'to be or not to be that is the question'"
   ]
  },
  {
   "cell_type": "code",
   "execution_count": null,
   "id": "8471a975-332f-4716-9941-6bbf2b9f75c0",
   "metadata": {},
   "outputs": [],
   "source": [
    "unique_words = set(text.split())"
   ]
  },
  {
   "cell_type": "code",
   "execution_count": null,
   "id": "91eb2fb0-ed03-4306-ac6f-a948c5bdecfa",
   "metadata": {},
   "outputs": [],
   "source": [
    "for word in sorted(unique_words):\n",
    "    print(word, end=' ')"
   ]
  },
  {
   "cell_type": "code",
   "execution_count": null,
   "id": "7bfa7218-3228-47d4-ad97-15a30aeb412e",
   "metadata": {},
   "outputs": [],
   "source": [
    "{1, 3, 5} == {3, 5, 1}"
   ]
  },
  {
   "cell_type": "code",
   "execution_count": null,
   "id": "07345e01-2ebf-47df-a0e0-b5f53d13f27e",
   "metadata": {},
   "outputs": [],
   "source": [
    "{1, 3, 5} != {3, 5, 1}"
   ]
  },
  {
   "cell_type": "code",
   "execution_count": null,
   "id": "8782b1b5-e747-4006-8fff-8e30891f1766",
   "metadata": {},
   "outputs": [],
   "source": [
    "{1, 3, 5} < {3, 5, 1}"
   ]
  },
  {
   "cell_type": "code",
   "execution_count": null,
   "id": "2eb6cb22-eaa0-40d6-9784-5a17348ad6c9",
   "metadata": {},
   "outputs": [],
   "source": [
    "{1, 3, 5} < {7, 3, 5, 1}"
   ]
  },
  {
   "cell_type": "code",
   "execution_count": null,
   "id": "619c66b2-ac12-47c2-9f9f-2cb9551adb52",
   "metadata": {},
   "outputs": [],
   "source": [
    "{1, 3, 5} <= {3, 5, 1}"
   ]
  },
  {
   "cell_type": "code",
   "execution_count": null,
   "id": "b46b44fb-6337-4fbf-be11-941a3b30ab8a",
   "metadata": {},
   "outputs": [],
   "source": [
    "{3, 5} <= {3, 5, 1}"
   ]
  },
  {
   "cell_type": "code",
   "execution_count": null,
   "id": "25a76cc8-b430-4061-96b6-034c14d4bbc4",
   "metadata": {},
   "outputs": [],
   "source": [
    "{1, 2}.issubset({3, 5, 1})"
   ]
  },
  {
   "cell_type": "code",
   "execution_count": null,
   "id": "ccc7f065-4b3b-46ae-96f1-093d61f553dc",
   "metadata": {},
   "outputs": [],
   "source": [
    "{1, 3, 5} > {3, 5, 1}"
   ]
  },
  {
   "cell_type": "code",
   "execution_count": null,
   "id": "61becf2e-0f18-42b4-ac7b-e161ced86114",
   "metadata": {},
   "outputs": [],
   "source": [
    "{1, 3, 5, 7} > { 3, 5, 1}"
   ]
  },
  {
   "cell_type": "code",
   "execution_count": null,
   "id": "209e54a0-eba2-4f69-af50-d638a422ad9c",
   "metadata": {},
   "outputs": [],
   "source": [
    "{1, 3, 5} >= {3, 5, 1}"
   ]
  },
  {
   "cell_type": "code",
   "execution_count": null,
   "id": "a204c5a3-5b72-48ab-b929-f2648f912799",
   "metadata": {},
   "outputs": [],
   "source": [
    "{ 1, 3, 5} >= {3, 1}"
   ]
  },
  {
   "cell_type": "code",
   "execution_count": null,
   "id": "c81b08ad-5319-4265-9f1f-c2740bfa1f1a",
   "metadata": {},
   "outputs": [],
   "source": [
    "{1, 3} >= {3, 1, 7}"
   ]
  },
  {
   "cell_type": "code",
   "execution_count": null,
   "id": "14f261f8-672a-4d6e-b566-aa7746882638",
   "metadata": {},
   "outputs": [],
   "source": [
    "{1, 3, 5}.issuperset({3, 5, 1})"
   ]
  },
  {
   "cell_type": "code",
   "execution_count": null,
   "id": "c5b7b168-ab6b-4a76-88db-54a9a41f09ac",
   "metadata": {},
   "outputs": [],
   "source": [
    "{1, 3, 5}.issuperset({3, 2})"
   ]
  },
  {
   "cell_type": "markdown",
   "id": "26303570-f320-4dac-9dc5-0dbb2253a55c",
   "metadata": {},
   "source": [
    "# Self Check"
   ]
  },
  {
   "cell_type": "code",
   "execution_count": null,
   "id": "a7a2f227-8b65-4d39-b78b-2a7d5714f0e8",
   "metadata": {},
   "outputs": [],
   "source": [
    "set('abc def ghi jkl mno').issuperset('hi mom')"
   ]
  },
  {
   "cell_type": "code",
   "execution_count": null,
   "id": "824d192c-e161-4db9-bae9-12eec448804d",
   "metadata": {},
   "outputs": [],
   "source": [
    "{1, 3, 5}|{2, 3, 4}"
   ]
  },
  {
   "cell_type": "code",
   "execution_count": null,
   "id": "1cd1fa1e-207b-46c5-a0d8-4b1ceed6464d",
   "metadata": {},
   "outputs": [],
   "source": [
    "{1, 3, 5}.union([20, 20, 3, 40, 40])"
   ]
  },
  {
   "cell_type": "code",
   "execution_count": null,
   "id": "cc1e17f7-9bde-4161-8779-90b28dc2f7f0",
   "metadata": {},
   "outputs": [],
   "source": [
    "{1, 3, 5} & {2, 3, 4}"
   ]
  },
  {
   "cell_type": "code",
   "execution_count": null,
   "id": "9ef2f3f6-63d3-4a09-a2cc-0348704f87ad",
   "metadata": {},
   "outputs": [],
   "source": [
    "{1, 3, 5}.intersection([1, 2, 2, 3, 3, 4, 4])"
   ]
  },
  {
   "cell_type": "code",
   "execution_count": null,
   "id": "6afb97bf-e1f0-472d-aad4-aba3b3801329",
   "metadata": {},
   "outputs": [],
   "source": [
    "{1, 3, 5} - {2, 3, 4}"
   ]
  },
  {
   "cell_type": "code",
   "execution_count": null,
   "id": "91886ba8-7994-457b-9b09-a9b928f3fcbe",
   "metadata": {},
   "outputs": [],
   "source": [
    "{1, 3, 5, 7}.difference([2, 2, 3, 3, 4, 4])"
   ]
  },
  {
   "cell_type": "code",
   "execution_count": null,
   "id": "5d77ecbd-0472-4797-b4d7-e9e785b60a0e",
   "metadata": {},
   "outputs": [],
   "source": [
    "{1, 3, 5} ^ {2, 3, 4}"
   ]
  },
  {
   "cell_type": "code",
   "execution_count": null,
   "id": "8d29be47-3f2a-4cfe-92f8-9a4d241d1176",
   "metadata": {},
   "outputs": [],
   "source": [
    "{1, 3, 5, 7}.symmetric_difference([2, 2, 3, 3, 4, 4])"
   ]
  },
  {
   "cell_type": "code",
   "execution_count": null,
   "id": "339a682d-ba66-4cdc-af66-036524b310c2",
   "metadata": {},
   "outputs": [],
   "source": [
    "{1, 3, 5}.isdisjoint({2, 4, 6})"
   ]
  },
  {
   "cell_type": "code",
   "execution_count": null,
   "id": "0eee5c07-262b-4be0-8cd6-685c45bde559",
   "metadata": {},
   "outputs": [],
   "source": [
    "{1, 3, 5}.isdisjoint({4, 6, 1})"
   ]
  },
  {
   "cell_type": "markdown",
   "id": "454680b3-fb5e-4959-a713-e8508114f81c",
   "metadata": {},
   "source": [
    "# Self Check"
   ]
  },
  {
   "cell_type": "code",
   "execution_count": null,
   "id": "15822060-9838-4ef1-8c4e-940b2e13c9e2",
   "metadata": {},
   "outputs": [],
   "source": [
    "{10, 20, 30} - {5, 10, 15, 20}"
   ]
  },
  {
   "cell_type": "code",
   "execution_count": null,
   "id": "98307394-642f-4a4a-aceb-7416d7c0e80f",
   "metadata": {},
   "outputs": [],
   "source": [
    "{10, 20, 30} ^ {5, 10, 15, 20}"
   ]
  },
  {
   "cell_type": "code",
   "execution_count": null,
   "id": "f2c2ae7f-0150-4cb0-a657-29cfe5d0bfff",
   "metadata": {},
   "outputs": [],
   "source": [
    "{10, 20, 30} | {5, 10, 15, 20}"
   ]
  },
  {
   "cell_type": "code",
   "execution_count": null,
   "id": "2b943976-862f-47e2-9641-62957cfa2a5a",
   "metadata": {},
   "outputs": [],
   "source": [
    "{10, 20, 30} & {5, 10, 15, 20}"
   ]
  },
  {
   "cell_type": "markdown",
   "id": "912fe02b-71bb-4fb4-ab2b-81c34e71572c",
   "metadata": {},
   "source": [
    "# 6.3.3"
   ]
  },
  {
   "cell_type": "code",
   "execution_count": null,
   "id": "1f4da468-ece2-45cb-9ae4-896e33d9ada7",
   "metadata": {},
   "outputs": [],
   "source": [
    "numbers = {1, 3, 5}"
   ]
  },
  {
   "cell_type": "code",
   "execution_count": null,
   "id": "5ebcce11-02b7-4d0a-afcd-f4da8278401c",
   "metadata": {},
   "outputs": [],
   "source": [
    "numbers |= {2, 3, 4}"
   ]
  },
  {
   "cell_type": "code",
   "execution_count": null,
   "id": "e3797cc1-e42c-4c8d-82bf-dcb960bd018b",
   "metadata": {},
   "outputs": [],
   "source": [
    "numbers"
   ]
  },
  {
   "cell_type": "code",
   "execution_count": null,
   "id": "04f73839-3c10-4461-95b0-69359e4df87e",
   "metadata": {},
   "outputs": [],
   "source": [
    "numbers.update(range(10))"
   ]
  },
  {
   "cell_type": "code",
   "execution_count": null,
   "id": "25d2d48d-67ec-4691-a422-254917d28beb",
   "metadata": {},
   "outputs": [],
   "source": [
    "numbers"
   ]
  },
  {
   "cell_type": "code",
   "execution_count": null,
   "id": "8fdb5369-5249-424b-8b6d-9145fdce7e3a",
   "metadata": {},
   "outputs": [],
   "source": [
    "numbers.add(17)"
   ]
  },
  {
   "cell_type": "code",
   "execution_count": null,
   "id": "61873917-98ae-4f8a-96fa-03c99f2f3599",
   "metadata": {},
   "outputs": [],
   "source": [
    "numbers.add(3)"
   ]
  },
  {
   "cell_type": "code",
   "execution_count": null,
   "id": "76e34b71-497f-49d1-be22-38e0708c16e4",
   "metadata": {},
   "outputs": [],
   "source": [
    "numbers"
   ]
  },
  {
   "cell_type": "code",
   "execution_count": null,
   "id": "eecbafe1-038b-43b4-925f-d85d729aaee2",
   "metadata": {},
   "outputs": [],
   "source": [
    "numbers.remove(3)"
   ]
  },
  {
   "cell_type": "code",
   "execution_count": null,
   "id": "98a1c52a-8751-43ab-8f4f-8453f75d1290",
   "metadata": {},
   "outputs": [],
   "source": [
    "numbers"
   ]
  },
  {
   "cell_type": "code",
   "execution_count": null,
   "id": "bbc70642-c72f-4177-9a5e-b02274b7b5eb",
   "metadata": {},
   "outputs": [],
   "source": [
    "numbers.pop()"
   ]
  },
  {
   "cell_type": "code",
   "execution_count": null,
   "id": "8b153f31-f1ee-4870-bab7-1cafa8a72b94",
   "metadata": {},
   "outputs": [],
   "source": [
    "numbers"
   ]
  },
  {
   "cell_type": "code",
   "execution_count": null,
   "id": "062e70da-472d-409b-82b0-28cb22726010",
   "metadata": {},
   "outputs": [],
   "source": [
    "numbers.clear()"
   ]
  },
  {
   "cell_type": "code",
   "execution_count": null,
   "id": "6ce06dbe-e44e-4b49-b625-c9f15400f1db",
   "metadata": {},
   "outputs": [],
   "source": [
    "numbers"
   ]
  },
  {
   "cell_type": "markdown",
   "id": "281ced17-fad7-40d4-9f20-287107054837",
   "metadata": {},
   "source": [
    "# Self Check"
   ]
  },
  {
   "cell_type": "code",
   "execution_count": null,
   "id": "e9ad15ff-c586-4373-aac9-f2d3835d60c7",
   "metadata": {},
   "outputs": [],
   "source": [
    "numbers = [1, 2, 2, 3, 4, 5, 6, 6, 7, 8, 9, 10, 10]"
   ]
  },
  {
   "cell_type": "code",
   "execution_count": null,
   "id": "87c41264-4b03-435f-aebc-90db5181bad7",
   "metadata": {},
   "outputs": [],
   "source": [
    "evens = {item for item in numbers if item % 2 == 0}"
   ]
  },
  {
   "cell_type": "code",
   "execution_count": null,
   "id": "41c1e943-b12e-483b-9062-a5619af40a35",
   "metadata": {},
   "outputs": [],
   "source": [
    "evens"
   ]
  },
  {
   "cell_type": "markdown",
   "id": "e1621ec7-8020-4ba3-92cc-4966cac5b39c",
   "metadata": {},
   "source": [
    "Renee Hawkins"
   ]
  },
  {
   "cell_type": "code",
   "execution_count": null,
   "id": "bdb06bcd-5787-43d0-9bc4-dc56f7bb303a",
   "metadata": {},
   "outputs": [],
   "source": []
  }
 ],
 "metadata": {
  "kernelspec": {
   "display_name": "Python 3 (ipykernel)",
   "language": "python",
   "name": "python3"
  },
  "language_info": {
   "codemirror_mode": {
    "name": "ipython",
    "version": 3
   },
   "file_extension": ".py",
   "mimetype": "text/x-python",
   "name": "python",
   "nbconvert_exporter": "python",
   "pygments_lexer": "ipython3",
   "version": "3.9.7"
  }
 },
 "nbformat": 4,
 "nbformat_minor": 5
}
