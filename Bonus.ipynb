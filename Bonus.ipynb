{
 "cells": [
  {
   "cell_type": "markdown",
   "id": "54dc3ae2-6354-47b7-a99b-f3ed76b2e289",
   "metadata": {},
   "source": [
    "# Count the most common word in text\""
   ]
  },
  {
   "cell_type": "code",
   "execution_count": 48,
   "id": "50c42adc-899d-4c17-8272-4fffd30f98c2",
   "metadata": {},
   "outputs": [],
   "source": [
    "text = open(\"D:\\\\Bonus.txt\", \"r\")"
   ]
  },
  {
   "cell_type": "code",
   "execution_count": 49,
   "id": "8e4a044c-7cf1-4cc1-8898-d9a06a3ae3ff",
   "metadata": {},
   "outputs": [],
   "source": [
    "frequent_word = \"\""
   ]
  },
  {
   "cell_type": "code",
   "execution_count": 50,
   "id": "d5beb9da-ae5c-4e89-bfd8-38611f1b2227",
   "metadata": {},
   "outputs": [],
   "source": [
    "frequency = 0"
   ]
  },
  {
   "cell_type": "code",
   "execution_count": 51,
   "id": "84cb60eb-9f89-4f7f-9f07-d4d4f4f7290c",
   "metadata": {},
   "outputs": [],
   "source": [
    "words = []"
   ]
  },
  {
   "cell_type": "code",
   "execution_count": 52,
   "id": "c75d0950-ad2c-4397-b1ca-8dca06194112",
   "metadata": {},
   "outputs": [],
   "source": [
    "for line in text:\n",
    "    line_word = line.lower().replace(',', '').replace('.','').split (\" \");\n",
    "    \n",
    "    for w in line_word:\n",
    "        words.append(w);\n",
    "                                                                                                                                    "
   ]
  },
  {
   "cell_type": "code",
   "execution_count": 53,
   "id": "7be88013-1857-4746-8d62-1dc5f415405e",
   "metadata": {},
   "outputs": [],
   "source": [
    "for i in range(0, len(words)):\n",
    "    count = 1;\n",
    "    for j in range(i+1, len(words)):\n",
    "        if (words[i] == words[j]):\n",
    "            count = count + 1;\n",
    "    if(count > frequency):\n",
    "        frequency = count;\n",
    "        frequent_word = words[i];\n",
    "    "
   ]
  },
  {
   "cell_type": "code",
   "execution_count": 54,
   "id": "188c5e75-dd9f-4cc6-8dc4-defd26dfd38b",
   "metadata": {},
   "outputs": [
    {
     "name": "stdout",
     "output_type": "stream",
     "text": [
      "Most repeated word: the\n"
     ]
    }
   ],
   "source": [
    "print(\"Most repeated word: \" + frequent_word)"
   ]
  },
  {
   "cell_type": "code",
   "execution_count": 55,
   "id": "fbfb3690-13f0-4332-80ac-0d8d56053e3f",
   "metadata": {},
   "outputs": [
    {
     "name": "stdout",
     "output_type": "stream",
     "text": [
      "Frequency: 38\n"
     ]
    }
   ],
   "source": [
    "print(\"Frequency: \" + str(frequency))"
   ]
  },
  {
   "cell_type": "code",
   "execution_count": 56,
   "id": "fd2ff936-9dc8-411c-a3c0-651e3d21f1fa",
   "metadata": {},
   "outputs": [],
   "source": [
    "text.close();"
   ]
  },
  {
   "cell_type": "code",
   "execution_count": null,
   "id": "8dbc02a1-7b69-419f-8e0a-042fabd6942b",
   "metadata": {},
   "outputs": [],
   "source": []
  }
 ],
 "metadata": {
  "kernelspec": {
   "display_name": "Python 3 (ipykernel)",
   "language": "python",
   "name": "python3"
  },
  "language_info": {
   "codemirror_mode": {
    "name": "ipython",
    "version": 3
   },
   "file_extension": ".py",
   "mimetype": "text/x-python",
   "name": "python",
   "nbconvert_exporter": "python",
   "pygments_lexer": "ipython3",
   "version": "3.9.7"
  }
 },
 "nbformat": 4,
 "nbformat_minor": 5
}
